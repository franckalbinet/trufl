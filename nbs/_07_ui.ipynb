{
 "cells": [
  {
   "cell_type": "markdown",
   "metadata": {},
   "source": [
    "# User Interface\n",
    "\n",
    "> IPywidget layouts"
   ]
  },
  {
   "cell_type": "code",
   "execution_count": null,
   "metadata": {},
   "outputs": [],
   "source": [
    "#| default_exp ui"
   ]
  },
  {
   "cell_type": "code",
   "execution_count": null,
   "metadata": {},
   "outputs": [],
   "source": [
    "#|export\n",
    "import ipywidgets as widgets\n",
    "from IPython.display import display\n",
    "import fastcore.all as fc"
   ]
  },
  {
   "cell_type": "code",
   "execution_count": null,
   "metadata": {},
   "outputs": [],
   "source": [
    "# from fastcore.basics import patch\n",
    "# import numpy as np\n",
    "# from scipy.spatial import KDTree\n",
    "# import geopandas as gpd\n",
    "# from typing import List\n",
    "# from collections.abc import Callable\n",
    "# import rasterio\n",
    "# from rasterio.mask import mask\n",
    "# import pandas as pd"
   ]
  },
  {
   "cell_type": "code",
   "execution_count": null,
   "metadata": {},
   "outputs": [],
   "source": [
    "# check box\n",
    "# weights (but should sum up to 1"
   ]
  },
  {
   "cell_type": "code",
   "execution_count": null,
   "metadata": {},
   "outputs": [
    {
     "data": {
      "application/vnd.jupyter.widget-view+json": {
       "model_id": "a9fb69a2537f48d58b7525eb47c7bc85",
       "version_major": 2,
       "version_minor": 0
      },
      "text/plain": [
       "IntSlider(value=0)"
      ]
     },
     "execution_count": null,
     "metadata": {},
     "output_type": "execute_result"
    }
   ],
   "source": [
    "widgets.IntSlider()"
   ]
  },
  {
   "cell_type": "code",
   "execution_count": null,
   "metadata": {},
   "outputs": [
    {
     "data": {
      "application/vnd.jupyter.widget-view+json": {
       "model_id": "495fed699a504429803ac09b08076b62",
       "version_major": 2,
       "version_minor": 0
      },
      "text/plain": [
       "FloatSlider(value=0.33, description='Slider 1:', max=1.0, step=0.01)"
      ]
     },
     "metadata": {},
     "output_type": "display_data"
    },
    {
     "data": {
      "application/vnd.jupyter.widget-view+json": {
       "model_id": "3a3ba8371e4d435198ae93d950ae2e75",
       "version_major": 2,
       "version_minor": 0
      },
      "text/plain": [
       "FloatSlider(value=0.33, description='Slider 2:', max=1.0, step=0.01)"
      ]
     },
     "metadata": {},
     "output_type": "display_data"
    },
    {
     "data": {
      "application/vnd.jupyter.widget-view+json": {
       "model_id": "e9a7703a529a4ac281c41dd1c788e68e",
       "version_major": 2,
       "version_minor": 0
      },
      "text/plain": [
       "FloatSlider(value=0.34, description='Slider 3:', max=1.0, step=0.01)"
      ]
     },
     "metadata": {},
     "output_type": "display_data"
    }
   ],
   "source": [
    "# Create the sliders\n",
    "slider1 = widgets.FloatSlider(min=0, max=1, step=0.01, value=0.33, description='Slider 1:')\n",
    "slider2 = widgets.FloatSlider(min=0, max=1, step=0.01, value=0.33, description='Slider 2:')\n",
    "slider3 = widgets.FloatSlider(min=0, max=1, step=0.01, value=0.34, description='Slider 3:')\n",
    "\n",
    "# Define a function that updates the values of the sliders\n",
    "def update_sliders(change):\n",
    "    total = change.new + slider2.value + slider3.value\n",
    "    if total > 1:\n",
    "        # If the sum of the sliders is greater than 1, adjust the value of the last slider\n",
    "        slider3.value = 1 - change.new - slider2.value\n",
    "    else:\n",
    "        # If the sum of the sliders is less than or equal to 1, update the value of the third slider\n",
    "        slider3.value = 1 - change.new - slider2.value\n",
    "\n",
    "# Register the update function with the first two sliders\n",
    "slider1.observe(update_sliders, names='value')\n",
    "slider2.observe(update_sliders, names='value')\n",
    "\n",
    "# Display the sliders\n",
    "display(slider1)\n",
    "display(slider2)\n",
    "display(slider3)"
   ]
  },
  {
   "cell_type": "code",
   "execution_count": null,
   "metadata": {},
   "outputs": [
    {
     "data": {
      "application/vnd.jupyter.widget-view+json": {
       "model_id": "613e15655a974f679d38749b7399a0dd",
       "version_major": 2,
       "version_minor": 0
      },
      "text/plain": [
       "FloatSlider(value=0.33, description='Slider 1:', max=1.0, step=0.01)"
      ]
     },
     "metadata": {},
     "output_type": "display_data"
    },
    {
     "data": {
      "application/vnd.jupyter.widget-view+json": {
       "model_id": "b846e12c5a7c44088952202d62648b3c",
       "version_major": 2,
       "version_minor": 0
      },
      "text/plain": [
       "FloatSlider(value=0.33, description='Slider 2:', max=1.0, step=0.01)"
      ]
     },
     "metadata": {},
     "output_type": "display_data"
    },
    {
     "data": {
      "application/vnd.jupyter.widget-view+json": {
       "model_id": "99cd15ec50694a9cb5d6a98bc8a8dd65",
       "version_major": 2,
       "version_minor": 0
      },
      "text/plain": [
       "FloatSlider(value=0.34, description='Slider 3:', max=1.0, step=0.01)"
      ]
     },
     "metadata": {},
     "output_type": "display_data"
    }
   ],
   "source": [
    "slider1 = widgets.FloatSlider(min=0, max=1, step=0.01, value=0.33, description='Slider 1:')\n",
    "slider2 = widgets.FloatSlider(min=0, max=1, step=0.01, value=0.33, description='Slider 2:')\n",
    "slider3 = widgets.FloatSlider(min=0, max=1, step=0.01, value=0.34, description='Slider 3:')\n",
    "\n",
    "# Define a function that updates the values of the sliders based on the value of one of the sliders\n",
    "def update_sliders(change):\n",
    "    total = change.new + slider2.value + slider3.value\n",
    "    if total > 1:\n",
    "        # If the total is greater than 1, adjust the value of the other two sliders\n",
    "        slider2.value = max(0, 1 - change.new - slider3.value)\n",
    "        slider3.value = max(0, 1 - change.new - slider2.value)\n",
    "    else:\n",
    "        # If the total is less than or equal to 1, set the value of the third slider to the remaining value\n",
    "        slider3.value = 1 - change.new - slider2.value\n",
    "\n",
    "# Attach the update_sliders function to the value_change event of the first slider\n",
    "slider1.observe(update_sliders, names='value')\n",
    "\n",
    "# Display the sliders\n",
    "display(slider1)\n",
    "display(slider2)\n",
    "display(slider3)"
   ]
  },
  {
   "cell_type": "code",
   "execution_count": null,
   "metadata": {},
   "outputs": [],
   "source": [
    "import numpy as np\n",
    "\n",
    "arr = [1/3, 1/3, 1/3]"
   ]
  },
  {
   "cell_type": "code",
   "execution_count": null,
   "metadata": {},
   "outputs": [
    {
     "data": {
      "text/plain": [
       "1.0"
      ]
     },
     "execution_count": null,
     "metadata": {},
     "output_type": "execute_result"
    }
   ],
   "source": [
    "np.sum(arr)"
   ]
  },
  {
   "cell_type": "code",
   "execution_count": null,
   "metadata": {},
   "outputs": [],
   "source": [
    "arr[0] = 2/3"
   ]
  },
  {
   "cell_type": "code",
   "execution_count": null,
   "metadata": {},
   "outputs": [
    {
     "data": {
      "text/plain": [
       "[0.6666666666666666, 0.3333333333333333, 0.3333333333333333]"
      ]
     },
     "execution_count": null,
     "metadata": {},
     "output_type": "execute_result"
    }
   ],
   "source": [
    "arr"
   ]
  },
  {
   "cell_type": "code",
   "execution_count": null,
   "metadata": {},
   "outputs": [
    {
     "data": {
      "text/plain": [
       "1.3333333333333333"
      ]
     },
     "execution_count": null,
     "metadata": {},
     "output_type": "execute_result"
    }
   ],
   "source": [
    "np.sum(arr)"
   ]
  },
  {
   "cell_type": "code",
   "execution_count": null,
   "metadata": {},
   "outputs": [
    {
     "data": {
      "text/plain": [
       "0.25"
      ]
     },
     "execution_count": null,
     "metadata": {},
     "output_type": "execute_result"
    }
   ],
   "source": [
    "arr[1]/np.sum(arr)"
   ]
  },
  {
   "cell_type": "code",
   "execution_count": null,
   "metadata": {},
   "outputs": [
    {
     "data": {
      "application/vnd.jupyter.widget-view+json": {
       "model_id": "2ce82b09a7a54683a3fc5b4bd5bb0c21",
       "version_major": 2,
       "version_minor": 0
      },
      "text/plain": [
       "FloatSlider(value=0.3333333333333333, description='Slider 1:', max=1.0, step=0.01)"
      ]
     },
     "metadata": {},
     "output_type": "display_data"
    },
    {
     "data": {
      "application/vnd.jupyter.widget-view+json": {
       "model_id": "004f310aa27944d1b5b321c87c135470",
       "version_major": 2,
       "version_minor": 0
      },
      "text/plain": [
       "FloatSlider(value=0.3333333333333333, description='Slider 2:', max=1.0, step=0.01)"
      ]
     },
     "metadata": {},
     "output_type": "display_data"
    },
    {
     "data": {
      "application/vnd.jupyter.widget-view+json": {
       "model_id": "31ac07650e7947a88ecf73c71131f6f4",
       "version_major": 2,
       "version_minor": 0
      },
      "text/plain": [
       "FloatSlider(value=0.3333333333333333, description='Slider 3:', max=1.0, step=0.01)"
      ]
     },
     "metadata": {},
     "output_type": "display_data"
    }
   ],
   "source": [
    "# Create the sliders\n",
    "slider1 = widgets.FloatSlider(min=0, max=1, step=0.01, value=1/3, description='Slider 1:')\n",
    "slider2 = widgets.FloatSlider(min=0, max=1, step=0.01, value=1/3, description='Slider 2:')\n",
    "slider3 = widgets.FloatSlider(min=0, max=1, step=0.01, value=1/3, description='Slider 3:')\n",
    "\n",
    "# Define a function that updates the values of the sliders based on the value of one of the sliders\n",
    "def update_sliders(change):\n",
    "    total = change.new + slider2.value + slider3.value\n",
    "    if total > 1:\n",
    "        # If the total is greater than 1, adjust the value of the other two sliders\n",
    "        slider2.value = max(0, 1 - change.new - slider3.value)\n",
    "        slider3.value = max(0, 1 - change.new - slider2.value)\n",
    "    else:\n",
    "        # If the total is less than or equal to 1, set the value of the third slider to the remaining value\n",
    "        slider3.value = 1 - change.new - slider2.value\n",
    "\n",
    "# Attach the update_sliders function to the value_change event of the first slider\n",
    "slider1.observe(update_sliders, names='value')\n",
    "\n",
    "# Display the sliders\n",
    "display(slider1)\n",
    "display(slider2)\n",
    "display(slider3)"
   ]
  },
  {
   "cell_type": "code",
   "execution_count": null,
   "metadata": {},
   "outputs": [],
   "source": [
    "#| hide\n",
    "import nbdev; nbdev.nbdev_export()"
   ]
  }
 ],
 "metadata": {
  "kernelspec": {
   "display_name": "python3",
   "language": "python",
   "name": "python3"
  }
 },
 "nbformat": 4,
 "nbformat_minor": 4
}
