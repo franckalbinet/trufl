{
 "cells": [
  {
   "cell_type": "markdown",
   "metadata": {},
   "source": [
    "# Utilities\n",
    "\n",
    "> Utilities function to create a vector grid from raster, reproject raster and many others."
   ]
  },
  {
   "cell_type": "code",
   "execution_count": null,
   "metadata": {},
   "outputs": [],
   "source": [
    "#| default_exp utils"
   ]
  },
  {
   "cell_type": "code",
   "execution_count": null,
   "metadata": {},
   "outputs": [],
   "source": [
    "#|export\n",
    "import numpy as np\n",
    "import rasterio\n",
    "\n",
    "from rasterio.warp import calculate_default_transform, reproject, Resampling\n",
    "from rasterio.transform import from_origin\n",
    "import geopandas as gpd\n",
    "from shapely.geometry import Polygon, box"
   ]
  },
  {
   "cell_type": "code",
   "execution_count": null,
   "metadata": {},
   "outputs": [],
   "source": [
    "#|exports\n",
    "def reproject_raster(src_fname:str, # Source raster geotiff file\n",
    "                     dst_fname:str, # Destination raster geotiff file\n",
    "                     dst_crs:str='EPSG:4326', # EPSG code to project to\n",
    "                     ) -> None:\n",
    "    \"Reproject a GeoTiff file to specified crs\"\n",
    "    with rasterio.open(src_fname) as src:\n",
    "        transform, width, height = calculate_default_transform(\n",
    "            src.crs, dst_crs, src.width, src.height, *src.bounds)\n",
    "        kwargs = src.meta.copy()\n",
    "        kwargs.update({\n",
    "            'crs': dst_crs,\n",
    "            'transform': transform,\n",
    "            'width': width,\n",
    "            'height': height\n",
    "        })\n",
    "\n",
    "        with rasterio.open(dst_fname, 'w', **kwargs) as dst:\n",
    "            for i in range(1, src.count + 1):\n",
    "                reproject(\n",
    "                    source=rasterio.band(src, i),\n",
    "                    destination=rasterio.band(dst, i),\n",
    "                    src_transform=src.transform,\n",
    "                    src_crs=src.crs,\n",
    "                    dst_transform=transform,\n",
    "                    dst_crs=dst_crs,\n",
    "                    resampling=Resampling.nearest)\n"
   ]
  },
  {
   "cell_type": "code",
   "execution_count": null,
   "metadata": {},
   "outputs": [],
   "source": [
    "#|exports\n",
    "def gridder(\n",
    "    fname_raster:str, # The path to the raster file.\n",
    "    band:int=1, # The band number to use. Defaults to 1.\n",
    "    nrows:int=10, # The number of rows in the grid. Defaults to 10.\n",
    "    ncols:int=10, # The number of columns in the grid. Defaults to 10.\n",
    "    ) -> gpd.GeoDataFrame: # A GeoDataFrame of the grid cells geometry with 'loc_id' as index.\n",
    "    \"Generate a grid of polygons overlaid on a raster file.\"\n",
    "    with rasterio.open(fname_raster) as f:\n",
    "        raster = f.read(band)\n",
    "        bounds = f.bounds\n",
    "        crs = f.crs.to_string()\n",
    "\n",
    "    polygon = box(*bounds)\n",
    "    gdf_polygon = gpd.GeoDataFrame([1], geometry=[polygon], crs=crs)\n",
    "\n",
    "    # Calculate the bounds of the polygon\n",
    "    minx, miny, maxx, maxy = polygon.bounds\n",
    "\n",
    "    # Calculate the width and height of each cell\n",
    "    cell_width = (maxx - minx) / ncols\n",
    "    cell_height = (maxy - miny) / nrows\n",
    "\n",
    "    # Create an empty list to hold the grid cells\n",
    "    grid_cells = []\n",
    "\n",
    "    # Generate the grid\n",
    "    for i in range(ncols):\n",
    "        for j in range(nrows):\n",
    "            # Calculate the coordinates of the cell\n",
    "            x1 = minx + i * cell_width\n",
    "            y1 = miny + j * cell_height\n",
    "            x2 = x1 + cell_width\n",
    "            y2 = y1 + cell_height\n",
    "\n",
    "            # Create a box for each cell\n",
    "            cell = box(x1, y1, x2, y2)\n",
    "            grid_cells.append(cell)\n",
    "\n",
    "    # Create a GeoDataFrame from the grid cells\n",
    "    grid = gpd.GeoDataFrame(grid_cells, columns=['geometry'], crs=crs)\n",
    "\n",
    "    # Intersect the grid with the polygon\n",
    "    gdf = gpd.overlay(grid, gdf_polygon, how='intersection').reset_index()\n",
    "    gdf = gdf.drop(0, axis=1).set_index('index')\n",
    "    gdf.index.name = 'loc_id'\n",
    "    return gdf"
   ]
  },
  {
   "cell_type": "code",
   "execution_count": null,
   "metadata": {},
   "outputs": [
    {
     "name": "stdout",
     "output_type": "stream",
     "text": [
      "                                                 geometry\n",
      "loc_id                                                   \n",
      "0       POLYGON ((-1.17017 43.02904, -1.17017 42.99324...\n",
      "1       POLYGON ((-1.17017 43.06483, -1.17017 43.02904...\n",
      "2       POLYGON ((-1.17017 43.10063, -1.17017 43.06483...\n",
      "3       POLYGON ((-1.17017 43.13643, -1.17017 43.10063...\n",
      "4       POLYGON ((-1.17017 43.17222, -1.17017 43.13643...\n"
     ]
    },
    {
     "data": {
      "image/png": "[encoded data removed]",
      "text/plain": [
       "<Figure size 640x480 with 1 Axes>"
      ]
     },
     "metadata": {},
     "output_type": "display_data"
    }
   ],
   "source": [
    "#|eval: false\n",
    "fname_raster = './files/ground-truth-02-4326-simulated.tif'\n",
    "print(gridder(fname_raster).head())\n",
    "ax = gridder(fname_raster, nrows=10, ncols=10).boundary.plot(lw=0.5)\n",
    "ax.axis('off');"
   ]
  },
  {
   "cell_type": "code",
   "execution_count": null,
   "metadata": {},
   "outputs": [],
   "source": [
    "#|exports\n",
    "def anonymize_raster(fname_raster:str, # The path to the raster file.\n",
    "                     new_lon_origin:float, # Longitude of the new origin\n",
    "                     new_lat_origin:float, # Latitude of the new origin\n",
    "                     band:int=1, # The band number to use. Defaults to 1.\n",
    "                     ) -> None:\n",
    "    \"Anonymze a raster by translating it to specified location and values standardized.\"\n",
    "    with rasterio.open(src_fname) as src:\n",
    "        # Calculate the new transform based on the new origin and the same resolution\n",
    "        new_transform = from_origin(new_lon_origin, new_lat_origin, src.res[0], src.res[1])\n",
    "        profile = src.profile.copy()\n",
    "        profile['transform'] = new_transform\n",
    "        \n",
    "        # Normalize values\n",
    "        array = src.read(band)\n",
    "        normalized_array = (array - array.min()) / (array.max() - array.min())\n",
    "        \n",
    "        with rasterio.open(dst_fname, 'w', **profile) as dst:\n",
    "            dst.write(normalized_array, band)"
   ]
  },
  {
   "cell_type": "code",
   "execution_count": null,
   "metadata": {},
   "outputs": [],
   "source": [
    "#| hide\n",
    "import nbdev; nbdev.nbdev_export()"
   ]
  }
 ],
 "metadata": {
  "kernelspec": {
   "display_name": "python3",
   "language": "python",
   "name": "python3"
  },
  "language_info": {
   "name": "python",
   "version": "3.12.1"
  }
 },
 "nbformat": 4,
 "nbformat_minor": 4
}
