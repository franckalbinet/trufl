{
 "cells": [
  {
   "cell_type": "markdown",
   "metadata": {},
   "source": [
    "# Sampler\n",
    "\n",
    "> Toolbox to emulate data collection"
   ]
  },
  {
   "cell_type": "code",
   "execution_count": 1,
   "metadata": {},
   "outputs": [],
   "source": [
    "#| default_exp sampler"
   ]
  },
  {
   "cell_type": "code",
   "execution_count": 146,
   "metadata": {},
   "outputs": [
    {
     "name": "stdout",
     "output_type": "stream",
     "text": [
      "The autoreload extension is already loaded. To reload it, use:\n",
      "  %reload_ext autoreload\n"
     ]
    }
   ],
   "source": [
    "#| hide\n",
    "from nbdev.showdoc import *\n",
    "\n",
    "%load_ext autoreload\n",
    "%autoreload 2"
   ]
  },
  {
   "cell_type": "code",
   "execution_count": 186,
   "metadata": {},
   "outputs": [],
   "source": [
    "#| export\n",
    "import rasterio\n",
    "from rasterio import transform\n",
    "import fastcore.all as fc\n",
    "import matplotlib.pyplot as plt\n",
    "from trufl.utils import reproject_raster\n",
    "import geopandas as gpd\n",
    "from typing import List\n",
    "\n",
    "from trufl.utils import gridder"
   ]
  },
  {
   "cell_type": "code",
   "execution_count": 188,
   "metadata": {},
   "outputs": [],
   "source": [
    "#|export\n",
    "class Sampler:\n",
    "    def __init__(self, \n",
    "               fname_raster:str, # The path to the raster file.\n",
    "               band:int=1, # The band number to use. Defaults to 1.\n",
    "               id_name:str='loc_id'\n",
    "               ):\n",
    "        \"Emulate data collection. Provided a set of location, return values sampled from given raster file.\"\n",
    "        fc.store_attr()\n",
    "        with rasterio.open(fname_raster) as src:\n",
    "            self.band_data = src.read(band)\n",
    "            self.affine = src.transform\n",
    "    \n",
    "    def to_geodataframe(self, \n",
    "                        geoseries:gpd.GeoSeries, # The locations\n",
    "                        values:List[float] # The sampled values\n",
    "                        ) -> gpd.GeoDataFrame: \n",
    "        gdf = geoseries.to_frame(name='geometry').explode(index_parts=False)\n",
    "        gdf = gdf.assign(value=values)\n",
    "        return gdf.reset_index(names=self.id_name)\n",
    "    \n",
    "    def sample(self, \n",
    "               geoseries:gpd.GeoSeries # The locations\n",
    "               ) -> gpd.GeoDataFrame:\n",
    "        coords = [(x, y) for x, y in geoseries.get_coordinates().values]\n",
    "        pixel_coords = [transform.rowcol(self.affine, *pair) for pair in coords]\n",
    "        values = [self.band_data[int(y), int(x)] for (x, y) in pixel_coords]\n",
    "        return self.to_geodataframe(geoseries, values)"
   ]
  },
  {
   "cell_type": "code",
   "execution_count": 189,
   "metadata": {},
   "outputs": [],
   "source": [
    "fname_raster = './files/ground-truth-02-4326-simulated.tif'\n",
    "gdf_grid = gridder(fname_raster, nrows=10, ncols=10)\n",
    "loc_id = 1\n",
    "n_pts = 100\n",
    "sampling_locs = gdf_grid.loc[gdf_grid.loc_id == loc_id].sample_points(n_pts)"
   ]
  },
  {
   "cell_type": "code",
   "execution_count": 190,
   "metadata": {},
   "outputs": [],
   "source": [
    "sampler = Sampler(fname_raster)\n",
    "gdf_samples = sampler.sample(sampling_locs)"
   ]
  },
  {
   "cell_type": "code",
   "execution_count": 191,
   "metadata": {},
   "outputs": [
    {
     "data": {
      "image/png": "[encoded data removed]",
      "text/plain": [
       "<Figure size 640x480 with 1 Axes>"
      ]
     },
     "metadata": {},
     "output_type": "display_data"
    }
   ],
   "source": [
    "ax = gdf_samples.plot(markersize=5, c='red')\n",
    "# gdf_grid.boundary.plot(ax=ax);\n"
   ]
  },
  {
   "cell_type": "code",
   "execution_count": 85,
   "metadata": {},
   "outputs": [],
   "source": [
    "#| hide\n",
    "import nbdev; nbdev.nbdev_export()"
   ]
  }
 ],
 "metadata": {
  "kernelspec": {
   "display_name": "python3",
   "language": "python",
   "name": "python3"
  },
  "language_info": {
   "codemirror_mode": {
    "name": "ipython",
    "version": 3
   },
   "file_extension": ".py",
   "mimetype": "text/x-python",
   "name": "python",
   "nbconvert_exporter": "python",
   "pygments_lexer": "ipython3",
   "version": "3.12.3"
  }
 },
 "nbformat": 4,
 "nbformat_minor": 4
}
