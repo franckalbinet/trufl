{
 "cells": [
  {
   "cell_type": "markdown",
   "metadata": {},
   "source": [
    "# Sampler\n",
    "\n",
    "> Toolbox to emulate data collection"
   ]
  },
  {
   "cell_type": "code",
   "execution_count": null,
   "metadata": {},
   "outputs": [],
   "source": [
    "#| default_exp sampler"
   ]
  },
  {
   "cell_type": "code",
   "execution_count": null,
   "metadata": {},
   "outputs": [],
   "source": [
    "#| hide\n",
    "from nbdev.showdoc import *\n",
    "\n",
    "%load_ext autoreload\n",
    "%autoreload 2"
   ]
  },
  {
   "cell_type": "code",
   "execution_count": null,
   "metadata": {},
   "outputs": [],
   "source": [
    "#| export\n",
    "import rasterio\n",
    "from rasterio import transform\n",
    "import fastcore.all as fc\n",
    "import matplotlib.pyplot as plt\n",
    "from trufl.utils import reproject_raster\n",
    "import geopandas as gpd\n",
    "from typing import List"
   ]
  },
  {
   "cell_type": "code",
   "execution_count": null,
   "metadata": {},
   "outputs": [],
   "source": [
    "#| hide\n",
    "from trufl.utils import gridder\n",
    "red, black = '#BF360C', '#263238'"
   ]
  },
  {
   "cell_type": "code",
   "execution_count": null,
   "metadata": {},
   "outputs": [],
   "source": [
    "#|export\n",
    "class Sampler:\n",
    "    def __init__(self, \n",
    "               fname_raster:str, # The path to the raster file.\n",
    "               band:int=1, # The band number to use. Defaults to 1.\n",
    "               id_name:str='loc_id'\n",
    "               ):\n",
    "        \"Emulate data collection. Provided a set of location, return values sampled from given raster file.\"\n",
    "        fc.store_attr()\n",
    "        with rasterio.open(fname_raster) as src:\n",
    "            self.band_data = src.read(band)\n",
    "            self.affine = src.transform\n",
    "            self.bounds = src.bounds\n",
    "\n",
    "    def to_geodataframe(self, \n",
    "                        geoseries:gpd.GeoSeries, # The locations\n",
    "                        values:List[float] # The sampled values\n",
    "                        ) -> gpd.GeoDataFrame: \n",
    "        gdf = geoseries.to_frame(name='geometry').explode(index_parts=False)\n",
    "        gdf = gdf.assign(value=values)\n",
    "        return gdf.reset_index(names=self.id_name)\n",
    "    \n",
    "    def sample(self, \n",
    "               geoseries:gpd.GeoSeries # The locations\n",
    "               ) -> gpd.GeoDataFrame:\n",
    "        coords = [(x, y) for x, y in geoseries.get_coordinates().values]\n",
    "        pixel_coords = [transform.rowcol(self.affine, *pair) for pair in coords]\n",
    "        values = [self.band_data[int(x), int(y)] for (x, y) in pixel_coords]\n",
    "        return self.to_geodataframe(geoseries, values)"
   ]
  },
  {
   "cell_type": "markdown",
   "metadata": {},
   "source": [
    "How to use:"
   ]
  },
  {
   "cell_type": "code",
   "execution_count": null,
   "metadata": {},
   "outputs": [
    {
     "data": {
      "text/html": [
       "<div>\n",
       "<style scoped>\n",
       "    .dataframe tbody tr th:only-of-type {\n",
       "        vertical-align: middle;\n",
       "    }\n",
       "\n",
       "    .dataframe tbody tr th {\n",
       "        vertical-align: top;\n",
       "    }\n",
       "\n",
       "    .dataframe thead th {\n",
       "        text-align: right;\n",
       "    }\n",
       "</style>\n",
       "<table border=\"1\" class=\"dataframe\">\n",
       "  <thead>\n",
       "    <tr style=\"text-align: right;\">\n",
       "      <th></th>\n",
       "      <th>loc_id</th>\n",
       "      <th>geometry</th>\n",
       "      <th>value</th>\n",
       "    </tr>\n",
       "  </thead>\n",
       "  <tbody>\n",
       "    <tr>\n",
       "      <th>0</th>\n",
       "      <td>35</td>\n",
       "      <td>POINT (-1.06340 43.18266)</td>\n",
       "      <td>0.388978</td>\n",
       "    </tr>\n",
       "    <tr>\n",
       "      <th>1</th>\n",
       "      <td>35</td>\n",
       "      <td>POINT (-1.06214 43.17667)</td>\n",
       "      <td>0.386318</td>\n",
       "    </tr>\n",
       "    <tr>\n",
       "      <th>2</th>\n",
       "      <td>35</td>\n",
       "      <td>POINT (-1.06107 43.17639)</td>\n",
       "      <td>0.385351</td>\n",
       "    </tr>\n",
       "    <tr>\n",
       "      <th>3</th>\n",
       "      <td>35</td>\n",
       "      <td>POINT (-1.06067 43.19877)</td>\n",
       "      <td>0.399131</td>\n",
       "    </tr>\n",
       "    <tr>\n",
       "      <th>4</th>\n",
       "      <td>35</td>\n",
       "      <td>POINT (-1.05956 43.17693)</td>\n",
       "      <td>0.385882</td>\n",
       "    </tr>\n",
       "  </tbody>\n",
       "</table>\n",
       "</div>"
      ],
      "text/plain": [
       "   loc_id                   geometry     value\n",
       "0      35  POINT (-1.06340 43.18266)  0.388978\n",
       "1      35  POINT (-1.06214 43.17667)  0.386318\n",
       "2      35  POINT (-1.06107 43.17639)  0.385351\n",
       "3      35  POINT (-1.06067 43.19877)  0.399131\n",
       "4      35  POINT (-1.05956 43.17693)  0.385882"
      ]
     },
     "execution_count": null,
     "metadata": {},
     "output_type": "execute_result"
    }
   ],
   "source": [
    "#|eval: false\n",
    "fname_raster = './files/ground-truth-02-4326-simulated.tif'\n",
    "n_pts = 50\n",
    "loc_id = 35\n",
    "\n",
    "gdf_grid = gridder(fname_raster, nrows=10, ncols=10)\n",
    "sampling_locs = gdf_grid.loc[gdf_grid.loc_id == loc_id].sample_points(n_pts)\n",
    "sampler = Sampler(fname_raster)\n",
    "gdf_samples = sampler.sample(sampling_locs); gdf_samples.head()"
   ]
  },
  {
   "cell_type": "code",
   "execution_count": null,
   "metadata": {},
   "outputs": [
    {
     "data": {
      "image/png": "[encoded data removed]",
      "text/plain": [
       "<Figure size 640x480 with 1 Axes>"
      ]
     },
     "metadata": {},
     "output_type": "display_data"
    }
   ],
   "source": [
    "#|eval: false\n",
    "ax = gdf_samples.plot(markersize=1, c=red)\n",
    "gdf_grid.boundary.plot(ax=ax, color=black, lw=0.5);"
   ]
  },
  {
   "cell_type": "code",
   "execution_count": null,
   "metadata": {},
   "outputs": [],
   "source": [
    "#| hide\n",
    "import nbdev; nbdev.nbdev_export()"
   ]
  }
 ],
 "metadata": {
  "kernelspec": {
   "display_name": "python3",
   "language": "python",
   "name": "python3"
  }
 },
 "nbformat": 4,
 "nbformat_minor": 4
}
