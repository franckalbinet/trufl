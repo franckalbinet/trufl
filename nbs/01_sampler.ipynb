{
 "cells": [
  {
   "cell_type": "markdown",
   "metadata": {},
   "source": [
    "# Sampler\n",
    "\n",
    "> Generate random sample locations."
   ]
  },
  {
   "cell_type": "code",
   "execution_count": null,
   "metadata": {},
   "outputs": [],
   "source": [
    "#| default_exp sampler"
   ]
  },
  {
   "cell_type": "code",
   "execution_count": null,
   "metadata": {},
   "outputs": [
    {
     "name": "stdout",
     "output_type": "stream",
     "text": [
      "The autoreload extension is already loaded. To reload it, use:\n",
      "  %reload_ext autoreload\n"
     ]
    }
   ],
   "source": [
    "#| hide\n",
    "from nbdev.showdoc import *\n",
    "\n",
    "%load_ext autoreload\n",
    "%autoreload 2"
   ]
  },
  {
   "cell_type": "code",
   "execution_count": null,
   "metadata": {},
   "outputs": [],
   "source": [
    "#| export\n",
    "import rasterio\n",
    "import fastcore.all as fc\n",
    "import geopandas as gpd\n",
    "import numpy as np"
   ]
  },
  {
   "cell_type": "code",
   "execution_count": null,
   "metadata": {},
   "outputs": [],
   "source": [
    "#| hide\n",
    "from trufl.utils import gridder\n",
    "import numpy as np\n",
    "red, black = '#BF360C', '#263238'"
   ]
  },
  {
   "cell_type": "code",
   "execution_count": null,
   "metadata": {},
   "outputs": [],
   "source": [
    "#| exports\n",
    "class Sampler:\n",
    "    \"Sample random location in `smp_areas`.\"\n",
    "    def __init__(self, \n",
    "                 smp_areas:gpd.GeoDataFrame, # Geographical area to sample from.\n",
    "                ) -> gpd.GeoDataFrame: # loc_id, geometry (Point or MultiPoint).\n",
    "        fc.store_attr()\n",
    "        \n",
    "    @property\n",
    "    def loc_ids(self):\n",
    "        arr = self.smp_areas.reset_index().loc_id.values\n",
    "        if len(arr) != len(np.unique(arr)):\n",
    "            raise ValueError(f'{self.loc_id_col} column contains non-unique values.')\n",
    "        else:\n",
    "            return arr\n",
    "        \n",
    "    def sample(self, \n",
    "               n:np.ndarray, # Number of samples\n",
    "               **kwargs\n",
    "              ):\n",
    "        mask = n == 0    \n",
    "        pts_gseries = self.smp_areas[~mask].sample_points(n[~mask], **kwargs)\n",
    "        gdf_pts = gpd.GeoDataFrame(geometry=pts_gseries, index=pts_gseries.index)\n",
    "        gdf_pts.index.name = 'loc_id'\n",
    "        return gdf_pts"
   ]
  },
  {
   "cell_type": "markdown",
   "metadata": {},
   "source": [
    "How to use:"
   ]
  },
  {
   "cell_type": "code",
   "execution_count": null,
   "metadata": {},
   "outputs": [
    {
     "name": "stdout",
     "output_type": "stream",
     "text": [
      "                                                 geometry\n",
      "loc_id                                                   \n",
      "0       MULTIPOINT ((-1.22052 43.00039), (-1.21866 43....\n",
      "1       MULTIPOINT ((-1.20734 43.05181), (-1.20337 43....\n",
      "2       MULTIPOINT ((-1.20318 43.08934), (-1.19981 43....\n",
      "3       MULTIPOINT ((-1.20436 43.10329), (-1.18722 43....\n",
      "4       MULTIPOINT ((-1.21827 43.14085), (-1.20947 43....\n"
     ]
    }
   ],
   "source": [
    "#|eval: false\n",
    "fname_raster = './files/ground-truth-02-4326-simulated.tif'\n",
    "gdf_grid = gridder(fname_raster, nrows=10, ncols=10)\n",
    "\n",
    "sampler = Sampler(gdf_grid)\n",
    "n = np.random.randint(0, high=10, size=len(gdf_grid), dtype=int)\n",
    "gdf_samples = sampler.sample(n, method='uniform'); print(gdf_samples.head())"
   ]
  },
  {
   "cell_type": "code",
   "execution_count": null,
   "metadata": {},
   "outputs": [
    {
     "data": {
      "image/png": "[encoded data removed]",
      "text/plain": [
       "<Figure size 640x480 with 1 Axes>"
      ]
     },
     "metadata": {},
     "output_type": "display_data"
    }
   ],
   "source": [
    "#|eval: false\n",
    "ax = gdf_samples.plot(markersize=1, c=red)\n",
    "gdf_grid.boundary.plot(ax=ax, color=black, lw=0.5)\n",
    "ax.axis('off');"
   ]
  },
  {
   "cell_type": "code",
   "execution_count": null,
   "metadata": {},
   "outputs": [],
   "source": [
    "#|exports\n",
    "def rank_to_sample(ranks:np.ndarray, # Ranks sorted by `loc_id`s\n",
    "                   budget:int, # Total data collection budget available\n",
    "                   min:int=0 # Minimum of samples to be collected per area of interest\n",
    "                  ) -> np.ndarray: # Number of samples per area of interest to be collected in the same order as ranks\n",
    "    \"Map ranks to number of samples to be collected\"\n",
    "    weights = 1/ranks\n",
    "    normalized_weights = np.array(weights) / np.sum(weights)\n",
    "    allocation = np.round(budget * normalized_weights).astype(int)\n",
    "    return np.where(allocation < min, min, allocation)"
   ]
  },
  {
   "cell_type": "code",
   "execution_count": null,
   "metadata": {},
   "outputs": [],
   "source": [
    "#| hide\n",
    "import nbdev; nbdev.nbdev_export()"
   ]
  }
 ],
 "metadata": {
  "kernelspec": {
   "display_name": "python3",
   "language": "python",
   "name": "python3"
  },
  "language_info": {
   "name": "python",
   "version": "3.12.1"
  }
 },
 "nbformat": 4,
 "nbformat_minor": 4
}
