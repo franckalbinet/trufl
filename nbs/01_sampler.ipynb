{
 "cells": [
  {
   "cell_type": "markdown",
   "metadata": {},
   "source": [
    "# Sampler\n",
    "\n",
    "> Generate random sample locations."
   ]
  },
  {
   "cell_type": "code",
   "execution_count": 110,
   "metadata": {},
   "outputs": [],
   "source": [
    "#| default_exp sampler"
   ]
  },
  {
   "cell_type": "code",
   "execution_count": 111,
   "metadata": {},
   "outputs": [
    {
     "name": "stdout",
     "output_type": "stream",
     "text": [
      "The autoreload extension is already loaded. To reload it, use:\n",
      "  %reload_ext autoreload\n"
     ]
    }
   ],
   "source": [
    "#| hide\n",
    "from nbdev.showdoc import *\n",
    "\n",
    "%load_ext autoreload\n",
    "%autoreload 2"
   ]
  },
  {
   "cell_type": "code",
   "execution_count": 112,
   "metadata": {},
   "outputs": [],
   "source": [
    "#| export\n",
    "import rasterio\n",
    "import fastcore.all as fc\n",
    "import geopandas as gpd\n",
    "import pandas as pd\n",
    "import numpy as np"
   ]
  },
  {
   "cell_type": "code",
   "execution_count": 113,
   "metadata": {},
   "outputs": [],
   "source": [
    "#| hide\n",
    "from trufl.utils import gridder\n",
    "import numpy as np\n",
    "red, black = '#BF360C', '#263238'"
   ]
  },
  {
   "cell_type": "code",
   "execution_count": 114,
   "metadata": {},
   "outputs": [],
   "source": [
    "#| exports\n",
    "class Sampler:\n",
    "    \"Sample random location in `smp_areas`.\"\n",
    "    def __init__(self, \n",
    "                 smp_areas:gpd.GeoDataFrame, # Geographical area to sample from.\n",
    "                ) -> gpd.GeoDataFrame: # loc_id, geometry (Point or MultiPoint).\n",
    "        fc.store_attr()\n",
    "        \n",
    "    @property\n",
    "    def loc_ids(self):\n",
    "        arr = self.smp_areas.reset_index().loc_id.values\n",
    "        if len(arr) != len(np.unique(arr)):\n",
    "            raise ValueError(f'{self.loc_id_col} column contains non-unique values.')\n",
    "        else:\n",
    "            return arr\n",
    "        \n",
    "    def sample(self, \n",
    "               n:np.ndarray, # Number of samples\n",
    "               **kwargs\n",
    "              ):\n",
    "        mask = n == 0    \n",
    "        pts_gseries = self.smp_areas[~mask].sample_points(n[~mask], **kwargs)\n",
    "        gdf_pts = gpd.GeoDataFrame(geometry=pts_gseries, index=pts_gseries.index)\n",
    "        gdf_pts.index.name = 'loc_id'\n",
    "        return gdf_pts"
   ]
  },
  {
   "cell_type": "markdown",
   "metadata": {},
   "source": [
    "How to use:"
   ]
  },
  {
   "cell_type": "code",
   "execution_count": 115,
   "metadata": {},
   "outputs": [
    {
     "name": "stdout",
     "output_type": "stream",
     "text": [
      "                                                 geometry\n",
      "loc_id                                                   \n",
      "0       MULTIPOINT (-1.21319 43.01176, -1.20744 43.005...\n",
      "1       MULTIPOINT (-1.22320 43.03429, -1.21657 43.051...\n",
      "2       MULTIPOINT (-1.22229 43.09713, -1.21626 43.078...\n",
      "3       MULTIPOINT (-1.22233 43.12831, -1.22226 43.101...\n",
      "4       MULTIPOINT (-1.21914 43.16511, -1.21857 43.168...\n"
     ]
    }
   ],
   "source": [
    "#|eval: false\n",
    "fname_raster = './files/ground-truth-02-4326-simulated.tif'\n",
    "gdf_grid = gridder(fname_raster, nrows=10, ncols=10)\n",
    "\n",
    "sampler = Sampler(gdf_grid)\n",
    "n = np.random.randint(0, high=10, size=len(gdf_grid), dtype=int)\n",
    "gdf_samples = sampler.sample(n, method='uniform'); print(gdf_samples.head())"
   ]
  },
  {
   "cell_type": "code",
   "execution_count": 116,
   "metadata": {},
   "outputs": [
    {
     "data": {
      "image/png": "[encoded data removed]",
      "text/plain": [
       "<Figure size 640x480 with 1 Axes>"
      ]
     },
     "metadata": {},
     "output_type": "display_data"
    }
   ],
   "source": [
    "#|eval: false\n",
    "ax = gdf_samples.plot(markersize=1, c=red)\n",
    "gdf_grid.boundary.plot(ax=ax, color=black, lw=0.5)\n",
    "ax.axis('off');"
   ]
  },
  {
   "cell_type": "code",
   "execution_count": 117,
   "metadata": {},
   "outputs": [],
   "source": [
    "#|exports\n",
    "def rank_to_sample(ranks:np.ndarray, # Ranks sorted by `loc_id`s\n",
    "                   budget:int, # Total data collection budget available\n",
    "                   min:int=0, # Minimum of samples to be collected per area of interest\n",
    "                  policy:str=\"Weighted\" # policy used form mapping ranks to number of samples\n",
    "                  ) -> np.ndarray: # Number of samples per area of interest to be collected in the same order as ranks\n",
    "    \"Map ranks to number of samples to be collected\"\n",
    "    if policy == \"Weighted\":\n",
    "        weights = 1/ranks\n",
    "        normalized_weights = np.array(weights) / np.sum(weights)\n",
    "        allocation = np.round(budget * normalized_weights).astype(int)\n",
    "        return np.where(allocation < min, min, allocation)\n",
    "    \n",
    "    elif policy == \"Quantiles\":\n",
    "        # 4. Sampling policy (based on 4 quantiles of rank)\n",
    "        n_quantile = len(ranks)/4\n",
    "        sampling_policy = [int(budget*0.5/n_quantile), int(budget*0.3/n_quantile), int(budget*0.20/n_quantile), 0]\n",
    "\n",
    "        # Calculate quantiles thresholds\n",
    "        quantiles_thresholds = np.quantile(ranks, [0.25, 0.5, 0.75, 1.0])\n",
    "        \n",
    "        # Assign each rank to a quantile\n",
    "        quantile_indices = np.digitize(ranks, quantiles_thresholds, right=True)\n",
    "        \n",
    "        # Map each quantile to its corresponding value in sampling_policy\n",
    "        samples_per_quantile = np.array([sampling_policy[i] for i in quantile_indices])\n",
    "        \n",
    "        # Ensure minimum samples collected per area\n",
    "        samples_per_quantile = np.where(samples_per_quantile < min, min, samples_per_quantile)\n",
    "        \n",
    "        return samples_per_quantile\n",
    "    else:\n",
    "        raise ValueError(f'Policy {policy} not implemented.')"
   ]
  },
  {
   "cell_type": "code",
   "execution_count": 118,
   "metadata": {},
   "outputs": [],
   "source": [
    "#| hide\n",
    "import nbdev; nbdev.nbdev_export()"
   ]
  }
 ],
 "metadata": {
  "kernelspec": {
   "display_name": "python3",
   "language": "python",
   "name": "python3"
  },
  "language_info": {
   "codemirror_mode": {
    "name": "ipython",
    "version": 3
   },
   "file_extension": ".py",
   "mimetype": "text/x-python",
   "name": "python",
   "nbconvert_exporter": "python",
   "pygments_lexer": "ipython3",
   "version": "3.12.1"
  }
 },
 "nbformat": 4,
 "nbformat_minor": 4
}
