{
 "cells": [
  {
   "cell_type": "markdown",
   "metadata": {},
   "source": [
    "# Optimizer\n",
    "\n",
    "> Fill in a module description here"
   ]
  },
  {
   "cell_type": "code",
   "execution_count": null,
   "metadata": {},
   "outputs": [],
   "source": [
    "#| default_exp optimizer"
   ]
  },
  {
   "cell_type": "code",
   "execution_count": null,
   "metadata": {},
   "outputs": [],
   "source": [
    "#| hide\n",
    "from nbdev.showdoc import *"
   ]
  },
  {
   "cell_type": "code",
   "execution_count": null,
   "metadata": {},
   "outputs": [],
   "source": [
    "\n",
    "#| export\n",
    "class Optimizer:\n",
    "    def __init__(self, state):\n",
    "        \"Optimize the number of points for t. Provided the number of points to sample in t based on t-1, return values number of sample points.\"\n",
    "        self.state = state\n",
    "        return\n",
    "    \n",
    "    def CP_distance(self):\n",
    "        \"Calculate the CP distance for all te polygons in t\"\n",
    "        return\n",
    "        \n",
    "        \n",
    "    def build_matrix(self, polygon_list):\n",
    "        \"Build the matrix for the optimization\"\n",
    "        import numpy as np\n",
    "        matrix = []\n",
    "        self.list_id = polygon_list\n",
    "        for polygon in polygon_list:\n",
    "            polygon_state = self.state.get(loc_id=polygon, as_numpy=False)\n",
    "            values = [var.value for var in polygon_state]\n",
    "            matrix.append(values)\n",
    "            \n",
    "        decision_matrix = np.vstack(matrix)\n",
    "        # build matrix with columns based on the needed criteria\n",
    "        \n",
    "        self.matrix = decision_matrix\n",
    "        \n",
    "        return decision_matrix\n",
    "    \n",
    "    def build_weight_vector(self, weight_vector, benefit_vector):\n",
    "        \"Build the weight vector for the optimization\"\n",
    "        self.weight_vector = weight_vector\n",
    "        self.benefit_vector = benefit_vector\n",
    "        return\n",
    "        \n",
    "    def rank(self, method = \"SAW\"):\n",
    "        \"Rank the polygons based on the criteria\"\n",
    "        import mcdm\n",
    "\n",
    "        ranking = mcdm.rank(self.matrix,\n",
    "                            alt_names= self.list_id,\n",
    "                            is_benefit_x = self.benefit_vector,\n",
    "                            w_vector=self.weight_vector,\n",
    "                            n_method=\"Linear2\",\n",
    "                            s_method=method)\n",
    "        \n",
    "        return ranking"
   ]
  },
  {
   "cell_type": "code",
   "execution_count": null,
   "metadata": {},
   "outputs": [],
   "source": [
    "#| hide\n",
    "import nbdev; nbdev.nbdev_export()"
   ]
  }
 ],
 "metadata": {
  "kernelspec": {
   "display_name": "python3",
   "language": "python",
   "name": "python3"
  }
 },
 "nbformat": 4,
 "nbformat_minor": 4
}
