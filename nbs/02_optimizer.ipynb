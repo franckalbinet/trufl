{
 "cells": [
  {
   "cell_type": "markdown",
   "metadata": {},
   "source": [
    "# Optimizer\n",
    "\n",
    "> Fill in a module description here"
   ]
  },
  {
   "cell_type": "code",
   "execution_count": null,
   "metadata": {},
   "outputs": [],
   "source": [
    "#| default_exp optimizer"
   ]
  },
  {
   "cell_type": "code",
   "execution_count": null,
   "metadata": {},
   "outputs": [],
   "source": [
    "#| hide\n",
    "\n"
   ]
  },
  {
   "cell_type": "code",
   "execution_count": null,
   "metadata": {},
   "outputs": [],
   "source": [
    "#| export\n",
    "import numpy as np\n",
    "from fastcore.basics import patch\n",
    "from nbdev.showdoc import *\n",
    "from trufl.mcdm import score, normalize, weigh\n"
   ]
  },
  {
   "cell_type": "code",
   "execution_count": null,
   "metadata": {},
   "outputs": [],
   "source": [
    "#| export\n",
    "class Optimizer:\n",
    "    def __init__(self, state):\n",
    "        \"Optimize the number of points for t. Provided the number of points to sample in t based on t-1, return values number of sample points.\"\n",
    "        self.state = state\n",
    "        \n",
    "        self.matrix = state.to_numpy()\n",
    "        return"
   ]
  },
  {
   "cell_type": "code",
   "execution_count": null,
   "metadata": {},
   "outputs": [],
   "source": [
    "#| export\n",
    "@patch\n",
    "def rank(self:Optimizer, is_benefit_x:list, w_vector:list,  n_method:str=None, c_method:str = None, w_method:str=None, s_method:str=None):\n",
    "    \n",
    "    # normailize the matrix\n",
    "    z_matrix, is_benefit_z = normalize(self.matrix, is_benefit_x, n_method)\n",
    "    \n",
    "    if w_vector is None:\n",
    "            # Weigh each criterion using the selected methods\n",
    "            w_vector = weigh(z_matrix, w_method, c_method)\n",
    "    else:\n",
    "        pass\n",
    "\n",
    "    s_vector, desc_order = score(z_matrix, is_benefit_z, w_vector, s_method)\n",
    "    self.state['value'] = s_vector\n",
    "    df = self.state[['value']]\n",
    "\n",
    "    # Get the indices of the sorted scores\n",
    "    if desc_order:\n",
    "        df_sorted = df.sort_values(by='value', ascending=False)\n",
    "    else:\n",
    "        df_sorted = df.sort_values(by='value', ascending=True)\n",
    "    \n",
    "    df_sorted['rank'] = range(1, len(df_sorted) + 1)\n",
    "    df_rank = df_sorted[['rank']]\n",
    "    \n",
    "    return df_rank"
   ]
  },
  {
   "cell_type": "code",
   "execution_count": null,
   "metadata": {},
   "outputs": [],
   "source": [
    "#| hide\n",
    "import nbdev; nbdev.nbdev_export()"
   ]
  }
 ],
 "metadata": {
  "kernelspec": {
   "display_name": "python3",
   "language": "python",
   "name": "python3"
  }
 },
 "nbformat": 4,
 "nbformat_minor": 4
}
