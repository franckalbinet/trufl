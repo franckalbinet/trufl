{
 "cells": [
  {
   "cell_type": "markdown",
   "metadata": {},
   "source": [
    "# Optimizer\n",
    "\n",
    "> Fill in a module description here"
   ]
  },
  {
   "cell_type": "code",
   "execution_count": null,
   "metadata": {},
   "outputs": [],
   "source": [
    "#| default_exp optimizer"
   ]
  },
  {
   "cell_type": "code",
   "execution_count": null,
   "metadata": {},
   "outputs": [],
   "source": [
    "#| hide\n",
    "from nbdev.showdoc import *\n"
   ]
  },
  {
   "cell_type": "code",
   "execution_count": null,
   "metadata": {},
   "outputs": [],
   "source": [
    "#| export\n",
    "import numpy as np\n",
    "from trufl.mcdm import score, normalize, weigh\n"
   ]
  },
  {
   "cell_type": "code",
   "execution_count": null,
   "metadata": {},
   "outputs": [],
   "source": [
    "#| export\n",
    "class Optimizer:\n",
    "    def __init__(self, state):\n",
    "        \"Optimize the number of points for t. Provided the number of points to sample in t based on t-1, return values number of sample points.\"\n",
    "        self.state = state\n",
    "        return\n",
    "    \n",
    "        \n",
    "    def build_matrix(self, polygon_list):\n",
    "        \"Build the matrix for the optimization\"\n",
    "        import numpy as np\n",
    "        matrix = []\n",
    "        self.list_id = polygon_list\n",
    "        for polygon in polygon_list:\n",
    "            polygon_state = self.state.get(loc_id=polygon, as_numpy=False)\n",
    "            values = [var.value for var in polygon_state]\n",
    "            matrix.append(values)\n",
    "            \n",
    "        decision_matrix = np.vstack(matrix)\n",
    "        # build matrix with columns based on the needed criteria\n",
    "        \n",
    "        self.matrix = decision_matrix\n",
    "        \n",
    "        return decision_matrix\n",
    "        \n",
    "    def rank(self,\n",
    "        x_matrix,\n",
    "        alt_names=None,\n",
    "        is_benefit_x=None,\n",
    "        n_method=None,\n",
    "        w_vector=None,\n",
    "        c_method=None,\n",
    "        w_method=\"MW\",\n",
    "        s_method=\"SAW\",\n",
    "    ):\n",
    "        \"\"\"\n",
    "        Return the ranking of the alternatives, in descending order, using the\n",
    "        selected methods.\n",
    "        \"\"\"\n",
    "        # Perform sanity checks\n",
    "        x_matrix = np.array(x_matrix, dtype=np.float64)\n",
    "        \n",
    "        if alt_names is None:\n",
    "            alt_names = [\"\" + str(i + 1) for i in range(x_matrix.shape[0])]\n",
    "            \n",
    "        if len(alt_names) != x_matrix.shape[0]:\n",
    "            raise ValueError(\n",
    "                \"The number of names for the alternatives does not match the \"\n",
    "                + \"number of rows in the decision matrix\",\n",
    "            )\n",
    "\n",
    "        # If not specified, consider all criteria as benefit criteria\n",
    "        if is_benefit_x is None:\n",
    "            is_benefit_x = [True for _ in range(x_matrix.shape[1])]\n",
    "\n",
    "        # Normalize the decision matrix using the selected method\n",
    "        z_matrix, is_benefit_z = normalize(x_matrix, is_benefit_x, n_method)\n",
    "\n",
    "        # Determine the weight of each criterion\n",
    "        if w_vector is None:\n",
    "            # Weigh each criterion using the selected methods\n",
    "            w_vector = weigh(z_matrix, w_method, c_method)\n",
    "\n",
    "        # Score each alternative using the selected method\n",
    "        s_vector, desc_order = score(z_matrix, is_benefit_z, w_vector, s_method)\n",
    "\n",
    "        # Get the indices of the sorted scores\n",
    "        if desc_order:\n",
    "            r_indices = np.argsort(-s_vector)\n",
    "        else:\n",
    "            r_indices = np.argsort(s_vector)\n",
    "\n",
    "        # Create a list of tuples that includes the names of the alternatives and\n",
    "        # their corresponding scores in descending order\n",
    "        ranking = []\n",
    "        for i in range(len(alt_names)):\n",
    "            ranking.append((alt_names[r_indices[i]], s_vector[r_indices[i]], i+1))\n",
    "        \n",
    "        return ranking\n",
    "\n",
    "        \n",
    "   \n",
    "\n",
    "    \n",
    "\n"
   ]
  },
  {
   "cell_type": "code",
   "execution_count": null,
   "metadata": {},
   "outputs": [],
   "source": [
    "#| hide\n",
    "import nbdev; nbdev.nbdev_export()"
   ]
  }
 ],
 "metadata": {
  "kernelspec": {
   "display_name": "python3",
   "language": "python",
   "name": "python3"
  },
  "language_info": {
   "name": "python",
   "version": "3.12.1"
  }
 },
 "nbformat": 4,
 "nbformat_minor": 4
}
