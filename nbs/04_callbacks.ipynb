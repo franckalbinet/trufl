{
 "cells": [
  {
   "cell_type": "markdown",
   "metadata": {},
   "source": [
    "# Callbacks\n",
    "\n",
    "> State's callbacks and variables"
   ]
  },
  {
   "cell_type": "code",
   "execution_count": null,
   "metadata": {},
   "outputs": [],
   "source": [
    "#| default_exp callbacks"
   ]
  },
  {
   "cell_type": "code",
   "execution_count": null,
   "metadata": {},
   "outputs": [],
   "source": [
    "#|export\n",
    "from dataclasses import dataclass\n",
    "\n",
    "import warnings\n",
    "warnings.filterwarnings(\"ignore\", category=UserWarning, message=\"The weights matrix is not fully connected\")"
   ]
  },
  {
   "cell_type": "code",
   "execution_count": null,
   "metadata": {},
   "outputs": [],
   "source": [
    "#|export\n",
    "from pysal.lib import weights\n",
    "from pysal.explore import esda\n",
    "import itertools\n",
    "import fastcore.all as fc\n",
    "from fastcore.basics import patch\n",
    "import numpy as np\n",
    "from scipy.spatial import KDTree\n",
    "import geopandas as gpd\n",
    "from typing import List\n",
    "from collections.abc import Callable\n",
    "import rasterio"
   ]
  },
  {
   "cell_type": "code",
   "execution_count": null,
   "metadata": {},
   "outputs": [
    {
     "name": "stdout",
     "output_type": "stream",
     "text": [
      "The autoreload extension is already loaded. To reload it, use:\n",
      "  %reload_ext autoreload\n"
     ]
    }
   ],
   "source": [
    "#| hide\n",
    "from trufl.utils import gridder\n",
    "from trufl.sampler import Sampler\n",
    "import pandas as pd\n",
    "\n",
    "red, black = '#BF360C', '#263238'\n",
    "\n",
    "%load_ext autoreload\n",
    "%autoreload 2"
   ]
  },
  {
   "cell_type": "code",
   "execution_count": null,
   "metadata": {},
   "outputs": [],
   "source": [
    "#|export\n",
    "@dataclass\n",
    "class Variable:\n",
    "    \"State variable\"\n",
    "    name: str\n",
    "    value: float"
   ]
  },
  {
   "cell_type": "code",
   "execution_count": null,
   "metadata": {},
   "outputs": [],
   "source": [
    "#|export\n",
    "class Callback(): pass"
   ]
  },
  {
   "cell_type": "markdown",
   "metadata": {},
   "source": [
    "## State"
   ]
  },
  {
   "cell_type": "code",
   "execution_count": null,
   "metadata": {},
   "outputs": [],
   "source": [
    "#|export\n",
    "class State:\n",
    "    def __init__(self, \n",
    "                 measurements:gpd.GeoDataFrame, # Measurements data with `loc_id`, `geometry` and `value` columns. \n",
    "                 cbs:List[Callable] # List of Callback functions returning `Variable`s.\n",
    "                ): \n",
    "        \"Collect various variables/metrics per grid cell/administrative unit.\"\n",
    "        fc.store_attr()"
   ]
  },
  {
   "cell_type": "code",
   "execution_count": null,
   "metadata": {},
   "outputs": [],
   "source": [
    "#| export\n",
    "@patch\n",
    "def get(self:State, \n",
    "        loc_id:str, # Unique id of the Point feature\n",
    "        as_numpy=False # Whether or not to return a list of `Variable` or a tuple of numpy arrays.\n",
    "       ):\n",
    "    \"Get the state variables as defined by `cbs` for a given location (`loc_id`).\"\n",
    "    variables = self.run_cbs(loc_id)\n",
    "    if as_numpy:\n",
    "        return (np.array([v.name for v in variables]), \n",
    "                np.array([v.value for v in variables]))\n",
    "    else:\n",
    "        return variables"
   ]
  },
  {
   "cell_type": "code",
   "execution_count": null,
   "metadata": {},
   "outputs": [],
   "source": [
    "#| export\n",
    "@patch\n",
    "def expand_to_k_nearest(self:State, \n",
    "                        subset_measurements:gpd.GeoDataFrame, # Measurements for which Variables are computed.\n",
    "                        k:int=5, # Number of nearest neighbours (possibly belonging to adjacent cells/admin. units to consider.\n",
    "                       ):\n",
    "    \"Expand measurements of concern possibly to nearest neighbors of surrounding grid cells.\"\n",
    "    tree = KDTree(self.measurements.geometry.apply(lambda p: (p.x, p.y)).tolist());\n",
    "    _, indices = tree.query(subset_measurements.geometry.apply(lambda p: (p.x, p.y)).tolist(), k=k)\n",
    "    return self.measurements.iloc[indices.flatten()].reset_index(drop=True)"
   ]
  },
  {
   "cell_type": "code",
   "execution_count": null,
   "metadata": {},
   "outputs": [],
   "source": [
    "#| export\n",
    "@patch\n",
    "def _flatten(self:State, variables):\n",
    "    \"Flatten list of variables potentially containing both scalar and tuples.\"\n",
    "    return list(itertools.chain(*(v if isinstance(v, tuple) else (v,) \n",
    "                                  for v in variables)))"
   ]
  },
  {
   "cell_type": "code",
   "execution_count": null,
   "metadata": {},
   "outputs": [],
   "source": [
    "#| export\n",
    "@patch\n",
    "def run_cbs(self:State, loc_id):\n",
    "    \"Run Callbacks sequentially and flatten the results if required.\"\n",
    "    variables = []\n",
    "    for cb in self.cbs:\n",
    "        variables.append(cb(loc_id, self))\n",
    "    return self._flatten(variables)"
   ]
  },
  {
   "cell_type": "markdown",
   "metadata": {},
   "source": [
    "## Callbacks"
   ]
  },
  {
   "cell_type": "code",
   "execution_count": null,
   "metadata": {},
   "outputs": [],
   "source": [
    "#|export\n",
    "class MaxCB(Callback):\n",
    "    \"Compute Maximum value of measurements at given location.\"\n",
    "    def __call__(self, loc_id, state): \n",
    "        return Variable(\n",
    "            'Max', \n",
    "            np.max(state.measurements[state.measurements.loc_id == loc_id]['value'].values))"
   ]
  },
  {
   "cell_type": "code",
   "execution_count": null,
   "metadata": {},
   "outputs": [],
   "source": [
    "#|export\n",
    "class MinCB(Callback):\n",
    "    \"Compute Minimum value of measurements at given location.\"\n",
    "    def __call__(self, loc_id, state): \n",
    "        return Variable(\n",
    "            'Min', \n",
    "            np.min(state.measurements[state.measurements.loc_id == loc_id]['value'].values))"
   ]
  },
  {
   "cell_type": "code",
   "execution_count": null,
   "metadata": {},
   "outputs": [],
   "source": [
    "#|export\n",
    "class StdCB(Callback):\n",
    "    \"Compute Standard deviation of measurements at given location.\"\n",
    "    def __call__(self, loc_id, state): \n",
    "        return Variable(\n",
    "            'Standard Deviation', \n",
    "            np.std(state.measurements[state.measurements.loc_id == loc_id]['value'].values))"
   ]
  },
  {
   "cell_type": "code",
   "execution_count": null,
   "metadata": {},
   "outputs": [],
   "source": [
    "#|export\n",
    "class CountCB(Callback):\n",
    "    \"Compute the number of measurements at given location.\"\n",
    "    def __call__(self, loc_id, state): \n",
    "        return Variable(\n",
    "            'Count', \n",
    "            len(state.measurements[state.measurements.loc_id == loc_id]['value'].values))"
   ]
  },
  {
   "cell_type": "code",
   "execution_count": null,
   "metadata": {},
   "outputs": [],
   "source": [
    "#|export\n",
    "class MoranICB(Callback):\n",
    "    \"Compute Moran.I of measurements at given location.\"\n",
    "    def __init__(self, k=5): fc.store_attr()\n",
    "\n",
    "    def _weights(self, measurements):\n",
    "        w = weights.KNN.from_dataframe(measurements, k=self.k)\n",
    "        w.transform = \"R\" # Row-standardization\n",
    "        return w\n",
    "        \n",
    "    def __call__(self, loc_id, state): \n",
    "        subset = state.measurements[state.measurements.loc_id == loc_id];\n",
    "        expanded_measurements = state.expand_to_k_nearest(subset, k=self.k)\n",
    "        moran = esda.moran.Moran(expanded_measurements['value'], self._weights(expanded_measurements))\n",
    "        return Variable('Moran.I', moran.I), Variable('Moran_p_sim', moran.p_sim)"
   ]
  },
  {
   "cell_type": "markdown",
   "metadata": {},
   "source": [
    "For example:"
   ]
  },
  {
   "cell_type": "code",
   "execution_count": null,
   "metadata": {},
   "outputs": [],
   "source": [
    "fname_raster = 'files/ground-truth-01-4326-simulated.tif'\n",
    "gdf_grid = gridder(fname_raster, nrows=10, ncols=10)\n",
    "\n",
    "sampler = Sampler(fname_raster)\n",
    "n_planned = np.random.randint(1, high=100, size=len(gdf_grid), dtype=int)\n",
    "loc_ids = gdf_grid.loc_id.values\n",
    "\n",
    "samples_t0 = []\n",
    "for loc_id, n in zip(loc_ids, n_planned):    \n",
    "    sampling_locs = gdf_grid.loc[gdf_grid.loc_id == loc_id].sample_points(n)\n",
    "    gdf_samples = sampler.sample(sampling_locs)\n",
    "    samples_t0.append(gdf_samples)\n",
    "\n",
    "gdf_samples_t0 = pd.concat(samples_t0)"
   ]
  },
  {
   "cell_type": "code",
   "execution_count": null,
   "metadata": {},
   "outputs": [
    {
     "data": {
      "text/html": [
       "<div>\n",
       "<style scoped>\n",
       "    .dataframe tbody tr th:only-of-type {\n",
       "        vertical-align: middle;\n",
       "    }\n",
       "\n",
       "    .dataframe tbody tr th {\n",
       "        vertical-align: top;\n",
       "    }\n",
       "\n",
       "    .dataframe thead th {\n",
       "        text-align: right;\n",
       "    }\n",
       "</style>\n",
       "<table border=\"1\" class=\"dataframe\">\n",
       "  <thead>\n",
       "    <tr style=\"text-align: right;\">\n",
       "      <th></th>\n",
       "      <th>loc_id</th>\n",
       "      <th>geometry</th>\n",
       "      <th>value</th>\n",
       "    </tr>\n",
       "  </thead>\n",
       "  <tbody>\n",
       "    <tr>\n",
       "      <th>0</th>\n",
       "      <td>0</td>\n",
       "      <td>POINT (-1.21478 43.26780)</td>\n",
       "      <td>0.117954</td>\n",
       "    </tr>\n",
       "    <tr>\n",
       "      <th>1</th>\n",
       "      <td>0</td>\n",
       "      <td>POINT (-1.21399 43.26547)</td>\n",
       "      <td>0.103400</td>\n",
       "    </tr>\n",
       "    <tr>\n",
       "      <th>2</th>\n",
       "      <td>0</td>\n",
       "      <td>POINT (-1.21156 43.26814)</td>\n",
       "      <td>0.084929</td>\n",
       "    </tr>\n",
       "    <tr>\n",
       "      <th>0</th>\n",
       "      <td>1</td>\n",
       "      <td>POINT (-1.22349 43.27833)</td>\n",
       "      <td>0.000000</td>\n",
       "    </tr>\n",
       "    <tr>\n",
       "      <th>1</th>\n",
       "      <td>1</td>\n",
       "      <td>POINT (-1.22332 43.27854)</td>\n",
       "      <td>0.000000</td>\n",
       "    </tr>\n",
       "    <tr>\n",
       "      <th>...</th>\n",
       "      <td>...</td>\n",
       "      <td>...</td>\n",
       "      <td>...</td>\n",
       "    </tr>\n",
       "    <tr>\n",
       "      <th>65</th>\n",
       "      <td>99</td>\n",
       "      <td>POINT (-1.07234 43.34350)</td>\n",
       "      <td>0.664266</td>\n",
       "    </tr>\n",
       "    <tr>\n",
       "      <th>66</th>\n",
       "      <td>99</td>\n",
       "      <td>POINT (-1.07231 43.34943)</td>\n",
       "      <td>0.667775</td>\n",
       "    </tr>\n",
       "    <tr>\n",
       "      <th>67</th>\n",
       "      <td>99</td>\n",
       "      <td>POINT (-1.07221 43.34745)</td>\n",
       "      <td>0.666872</td>\n",
       "    </tr>\n",
       "    <tr>\n",
       "      <th>68</th>\n",
       "      <td>99</td>\n",
       "      <td>POINT (-1.07212 43.34922)</td>\n",
       "      <td>0.667775</td>\n",
       "    </tr>\n",
       "    <tr>\n",
       "      <th>69</th>\n",
       "      <td>99</td>\n",
       "      <td>POINT (-1.07209 43.34322)</td>\n",
       "      <td>0.663499</td>\n",
       "    </tr>\n",
       "  </tbody>\n",
       "</table>\n",
       "<p>4896 rows × 3 columns</p>\n",
       "</div>"
      ],
      "text/plain": [
       "    loc_id                   geometry     value\n",
       "0        0  POINT (-1.21478 43.26780)  0.117954\n",
       "1        0  POINT (-1.21399 43.26547)  0.103400\n",
       "2        0  POINT (-1.21156 43.26814)  0.084929\n",
       "0        1  POINT (-1.22349 43.27833)  0.000000\n",
       "1        1  POINT (-1.22332 43.27854)  0.000000\n",
       "..     ...                        ...       ...\n",
       "65      99  POINT (-1.07234 43.34350)  0.664266\n",
       "66      99  POINT (-1.07231 43.34943)  0.667775\n",
       "67      99  POINT (-1.07221 43.34745)  0.666872\n",
       "68      99  POINT (-1.07212 43.34922)  0.667775\n",
       "69      99  POINT (-1.07209 43.34322)  0.663499\n",
       "\n",
       "[4896 rows x 3 columns]"
      ]
     },
     "execution_count": null,
     "metadata": {},
     "output_type": "execute_result"
    }
   ],
   "source": [
    "gdf_samples_t0"
   ]
  },
  {
   "cell_type": "code",
   "execution_count": null,
   "metadata": {},
   "outputs": [],
   "source": [
    "state = State(gdf_samples_t0, [MaxCB(), MinCB(), StdCB(), CountCB(), MoranICB(k=5)])"
   ]
  },
  {
   "cell_type": "code",
   "execution_count": null,
   "metadata": {},
   "outputs": [
    {
     "data": {
      "text/plain": [
       "[Variable(name='Max', value=0.11795417),\n",
       " Variable(name='Min', value=0.08492873),\n",
       " Variable(name='Standard Deviation', value=0.013514156),\n",
       " Variable(name='Count', value=3),\n",
       " Variable(name='Moran.I', value=0.6331235783418951),\n",
       " Variable(name='Moran_p_sim', value=0.001)]"
      ]
     },
     "execution_count": null,
     "metadata": {},
     "output_type": "execute_result"
    }
   ],
   "source": [
    "state.get(0, as_numpy=False)"
   ]
  },
  {
   "cell_type": "code",
   "execution_count": null,
   "metadata": {},
   "outputs": [
    {
     "data": {
      "text/plain": [
       "(array(['Max', 'Min', 'Standard Deviation', 'Count', 'Moran.I',\n",
       "        'Moran_p_sim'], dtype='<U18'),\n",
       " array([1.17954172e-01, 8.49287286e-02, 1.35141565e-02, 3.00000000e+00,\n",
       "        6.33123578e-01, 1.00000000e-03]))"
      ]
     },
     "execution_count": null,
     "metadata": {},
     "output_type": "execute_result"
    }
   ],
   "source": [
    "state.get(0, as_numpy=True)"
   ]
  },
  {
   "cell_type": "code",
   "execution_count": null,
   "metadata": {},
   "outputs": [
    {
     "data": {
      "image/png": "[encoded data removed]",
      "text/plain": [
       "<Figure size 640x480 with 2 Axes>"
      ]
     },
     "metadata": {},
     "output_type": "display_data"
    }
   ],
   "source": [
    "subset = state.measurements[state.measurements.loc_id == 0]; subset.head()\n",
    "\n",
    "expanded_gpd = state.expand_to_k_nearest(subset, k=5)\n",
    "ax = expanded_gpd.plot(column='value', s=10, legend=True)\n",
    "gdf_grid[gdf_grid.loc_id.isin(expanded_gpd.loc_id.unique())].boundary.plot(color=black, ax=ax);"
   ]
  },
  {
   "cell_type": "code",
   "execution_count": null,
   "metadata": {},
   "outputs": [],
   "source": [
    "#|export\n",
    "class PriorCB(Callback):\n",
    "    \"Emulate a prior by taking the mean of measurement over a single grid cell.\"\n",
    "    def __init__(self, \n",
    "                 grid:gpd.GeoDataFrame, # Grid of polygons of interest\n",
    "                 fname_raster:str, # Name of raster file\n",
    "                ): \n",
    "        fc.store_attr()\n",
    "\n",
    "    def __call__(self, loc_id, state): \n",
    "        polygon = self.grid.loc[self.grid.loc_id == loc_id].geometry\n",
    "        with rasterio.open(self.fname_raster) as src:\n",
    "            out_image, out_transform = rasterio.mask.mask(src, polygon, crop=True)\n",
    "            mean_value = np.mean(out_image)\n",
    "        return Variable('Prior', mean_value)"
   ]
  },
  {
   "cell_type": "code",
   "execution_count": null,
   "metadata": {},
   "outputs": [],
   "source": [
    "#| hide\n",
    "import nbdev; nbdev.nbdev_export()"
   ]
  },
  {
   "cell_type": "code",
   "execution_count": null,
   "metadata": {},
   "outputs": [],
   "source": []
  }
 ],
 "metadata": {
  "kernelspec": {
   "display_name": "python3",
   "language": "python",
   "name": "python3"
  }
 },
 "nbformat": 4,
 "nbformat_minor": 4
}
