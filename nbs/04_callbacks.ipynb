{
 "cells": [
  {
   "cell_type": "markdown",
   "metadata": {},
   "source": [
    "# Callbacks\n",
    "\n",
    "> State's callbacks and variables"
   ]
  },
  {
   "cell_type": "code",
   "execution_count": null,
   "metadata": {},
   "outputs": [],
   "source": [
    "#| default_exp callbacks"
   ]
  },
  {
   "cell_type": "code",
   "execution_count": null,
   "metadata": {},
   "outputs": [],
   "source": [
    "#|export\n",
    "from dataclasses import dataclass\n",
    "\n",
    "import warnings\n",
    "warnings.filterwarnings(\"ignore\", category=UserWarning, message=\"The weights matrix is not fully connected\")"
   ]
  },
  {
   "cell_type": "code",
   "execution_count": null,
   "metadata": {},
   "outputs": [],
   "source": [
    "#|export\n",
    "from pysal.lib import weights\n",
    "from pysal.explore import esda\n",
    "import itertools\n",
    "import fastcore.all as fc\n",
    "from fastcore.basics import patch\n",
    "import numpy as np\n",
    "from scipy.spatial import KDTree\n",
    "import geopandas as gpd\n",
    "from typing import List\n",
    "from collections.abc import Callable\n",
    "import rasterio\n",
    "from rasterio.mask import mask\n",
    "import pandas as pd\n",
    "from typing import Type"
   ]
  },
  {
   "cell_type": "code",
   "execution_count": null,
   "metadata": {},
   "outputs": [
    {
     "name": "stdout",
     "output_type": "stream",
     "text": [
      "The autoreload extension is already loaded. To reload it, use:\n",
      "  %reload_ext autoreload\n"
     ]
    }
   ],
   "source": [
    "#| hide\n",
    "from trufl.utils import gridder\n",
    "from trufl.sampler import Sampler\n",
    "from trufl.collector import DataCollector\n",
    "import pandas as pd\n",
    "\n",
    "red, black = '#BF360C', '#263238'\n",
    "\n",
    "%load_ext autoreload\n",
    "%autoreload 2"
   ]
  },
  {
   "cell_type": "code",
   "execution_count": null,
   "metadata": {},
   "outputs": [],
   "source": [
    "#|export\n",
    "@dataclass\n",
    "class Variable:\n",
    "    \"State variable\"\n",
    "    name: str\n",
    "    value: float"
   ]
  },
  {
   "cell_type": "code",
   "execution_count": null,
   "metadata": {},
   "outputs": [],
   "source": [
    "#|export\n",
    "class Callback(): pass"
   ]
  },
  {
   "cell_type": "markdown",
   "metadata": {},
   "source": [
    "## State"
   ]
  },
  {
   "cell_type": "code",
   "execution_count": null,
   "metadata": {},
   "outputs": [],
   "source": [
    "#|export\n",
    "class State:\n",
    "    def __init__(self, \n",
    "                 measurements:gpd.GeoDataFrame, # Measurements data with `loc_id`, `geometry` and `value` columns. \n",
    "                 smp_areas:gpd.GeoDataFrame, # Grid of areas/polygons of interest with `loc_id` and `geometry`.\n",
    "                 cbs:List[Callable], # List of Callback functions returning `Variable`s.\n",
    "                ): \n",
    "        \"Collect various variables/metrics per grid cell/administrative unit.\"\n",
    "        fc.store_attr()\n",
    "        self.unsampled_locs = self.smp_areas.index.difference(self.measurements.index)"
   ]
  },
  {
   "cell_type": "code",
   "execution_count": null,
   "metadata": {},
   "outputs": [],
   "source": [
    "#| export\n",
    "@patch\n",
    "def get(self:State, \n",
    "        loc_id:str, # Unique id of the Point feature\n",
    "        as_numpy=False # Whether or not to return a list of `Variable` or a tuple of numpy arrays.\n",
    "       ):\n",
    "    \"Get the state variables as defined by `cbs` for a given location (`loc_id`).\"\n",
    "    variables = self.run_cbs(loc_id)\n",
    "    if as_numpy:\n",
    "        return (np.array([v.name for v in variables]), \n",
    "                np.array([v.value for v in variables]))\n",
    "    else:\n",
    "        return variables"
   ]
  },
  {
   "cell_type": "code",
   "execution_count": null,
   "metadata": {},
   "outputs": [],
   "source": [
    "#| export\n",
    "@patch\n",
    "def __call__(self:State, loc_id=None, **kwargs):\n",
    "    \"Get the state variables as defined by `cbs` for all `loc_id`s as a dataframe.\"\n",
    "    loc_ids = self.smp_areas.index\n",
    "    results = [{v.name: v.value for v in self.run_cbs(loc_id)} | {'loc_id': loc_id} for loc_id in loc_ids]\n",
    "    return pd.DataFrame(results).set_index('loc_id')"
   ]
  },
  {
   "cell_type": "code",
   "execution_count": null,
   "metadata": {},
   "outputs": [],
   "source": [
    "#| export\n",
    "@patch\n",
    "def expand_to_k_nearest(self:State, \n",
    "                        subset_measurements:gpd.GeoDataFrame, # Measurements for which Variables are computed.\n",
    "                        k:int=5, # Number of nearest neighbours (possibly belonging to adjacent cells/admin. units to consider).\n",
    "                       ):\n",
    "    \"Expand measurements of concern possibly to nearest neighbors of surrounding grid cells.\"\n",
    "    tree = KDTree(self.measurements.geometry.apply(lambda p: (p.x, p.y)).tolist());\n",
    "    _, indices = tree.query(subset_measurements.geometry.apply(lambda p: (p.x, p.y)).tolist(), k=k)\n",
    "    return self.measurements.iloc[indices.flatten()].reset_index(drop=True)"
   ]
  },
  {
   "cell_type": "code",
   "execution_count": null,
   "metadata": {},
   "outputs": [],
   "source": [
    "#| export\n",
    "@patch\n",
    "def _flatten(self:State, variables):\n",
    "    \"Flatten list of variables potentially containing both scalar and tuples.\"\n",
    "    return list(itertools.chain(*(v if isinstance(v, tuple) else (v,) \n",
    "                                  for v in variables)))"
   ]
  },
  {
   "cell_type": "code",
   "execution_count": null,
   "metadata": {},
   "outputs": [],
   "source": [
    "#| export\n",
    "@patch\n",
    "def run_cbs(self:State, loc_id):\n",
    "    \"Run Callbacks sequentially and flatten the results if required.\"\n",
    "    variables = []\n",
    "    for cb in self.cbs:\n",
    "        variables.append(cb(loc_id, self))\n",
    "    return self._flatten(variables)"
   ]
  },
  {
   "cell_type": "markdown",
   "metadata": {},
   "source": [
    "## Callbacks"
   ]
  },
  {
   "cell_type": "code",
   "execution_count": null,
   "metadata": {},
   "outputs": [],
   "source": [
    "#|export\n",
    "class MaxCB(Callback):\n",
    "    \"Compute Maximum value of measurements at given location.\"\n",
    "    def __init__(self, name='Max'): fc.store_attr()\n",
    "    def __call__(self, \n",
    "                 loc_id:int, # Unique id of an individual area of interest. \n",
    "                 o:Type[State] # A State's object\n",
    "                ): \n",
    "        if loc_id in o.unsampled_locs: return Variable(self.name, np.nan)\n",
    "        return Variable(self.name, \n",
    "                        np.max(o.measurements.loc[[loc_id]].value.values))"
   ]
  },
  {
   "cell_type": "code",
   "execution_count": null,
   "metadata": {},
   "outputs": [],
   "source": [
    "#|export\n",
    "class MinCB(Callback):\n",
    "    \"Compute Minimum value of measurements at given location.\"\n",
    "    def __init__(self, name='Min'): fc.store_attr()\n",
    "    def __call__(self, \n",
    "                 loc_id:int, # Unique id of an individual area of interest. \n",
    "                 o:Type[State] # A State's object\n",
    "                ): \n",
    "        if loc_id in o.unsampled_locs: return Variable(self.name, np.nan)\n",
    "        return Variable(self.name, \n",
    "                    np.min(o.measurements.loc[[loc_id]].value.values))"
   ]
  },
  {
   "cell_type": "code",
   "execution_count": null,
   "metadata": {},
   "outputs": [],
   "source": [
    "#|export\n",
    "class StdCB(Callback):\n",
    "    \"Compute Standard deviation of measurements at given location.\"\n",
    "    def __init__(self, name='Standard Deviation'): fc.store_attr()\n",
    "    def __call__(self, \n",
    "                 loc_id:int, # Unique id of an individual area of interest. \n",
    "                 o:Type[State] # A State's object\n",
    "                ): \n",
    "        if loc_id in o.unsampled_locs: return Variable(self.name, np.nan)\n",
    "        return Variable(self.name, \n",
    "                    np.std(o.measurements.loc[[loc_id]].value.values))"
   ]
  },
  {
   "cell_type": "code",
   "execution_count": null,
   "metadata": {},
   "outputs": [],
   "source": [
    "#|export\n",
    "class CountCB(Callback):\n",
    "    \"Compute the number of measurements at given location.\"\n",
    "    def __init__(self, name='Count'): fc.store_attr()\n",
    "    def __call__(self, \n",
    "                 loc_id:int, # Unique id of an individual area of interest. \n",
    "                 o:Type[State] # A State's object\n",
    "                ): \n",
    "        if loc_id in o.unsampled_locs: return Variable(self.name, np.nan)\n",
    "        return Variable(self.name, \n",
    "                        len(o.measurements.loc[[loc_id]].value.values))"
   ]
  },
  {
   "cell_type": "code",
   "execution_count": null,
   "metadata": {},
   "outputs": [],
   "source": [
    "#|export\n",
    "class MoranICB(Callback):\n",
    "    \"Compute Moran.I of measurements at given location. Return NaN if p_sim above threshold.\"\n",
    "    def __init__(self, k=5, p_threshold=0.05, name='Moran.I', min_n=5): fc.store_attr()\n",
    "\n",
    "    def _weights(self, measurements):\n",
    "        w = weights.KNN.from_dataframe(measurements, k=self.k)\n",
    "        w.transform = \"R\" # Row-standardization\n",
    "        return w\n",
    "        \n",
    "    def __call__(self, \n",
    "                 loc_id:int, # Unique id of an individual area of interest. \n",
    "                 o:Type[State] # A State's object\n",
    "                ): \n",
    "        if loc_id in o.unsampled_locs: return Variable(self.name, np.nan)\n",
    "        subset = o.measurements.loc[[loc_id]]\n",
    "        if len(subset) <= self.min_n: return Variable(self.name, np.nan)\n",
    "        expanded_measurements = o.expand_to_k_nearest(subset, k=self.k)\n",
    "        moran = esda.moran.Moran(expanded_measurements['value'], self._weights(expanded_measurements))\n",
    "        return Variable(self.name, moran.I if moran.p_sim < self.p_threshold else np.nan)"
   ]
  },
  {
   "cell_type": "code",
   "execution_count": null,
   "metadata": {},
   "outputs": [],
   "source": [
    "#|export\n",
    "class PriorCB(Callback):\n",
    "    \"Emulate a prior by taking the mean of measurement over a single grid cell.\"\n",
    "    def __init__(self, \n",
    "                 fname_raster:str, # Name of raster file\n",
    "                 name:str='Prior' # Name of the State variable\n",
    "                ): \n",
    "        fc.store_attr()\n",
    "\n",
    "    def __call__(self, \n",
    "                 loc_id:int, # Unique id of an individual area of interest. \n",
    "                 o:Type[State] # A State's object\n",
    "                ): \n",
    "        polygon = o.smp_areas.loc[o.smp_areas.reset_index().loc_id == loc_id].geometry\n",
    "        with rasterio.open(self.fname_raster) as src:\n",
    "            out_image, out_transform = mask(src, polygon, crop=True)\n",
    "            mean_value = np.mean(out_image)\n",
    "        return Variable(self.name, mean_value)"
   ]
  },
  {
   "cell_type": "markdown",
   "metadata": {},
   "source": [
    "For example:"
   ]
  },
  {
   "cell_type": "markdown",
   "metadata": {},
   "source": [
    "1. We generate a grid from a given raster file:"
   ]
  },
  {
   "cell_type": "code",
   "execution_count": null,
   "metadata": {},
   "outputs": [],
   "source": [
    "#|eval: false\n",
    "fname_raster = 'files/ground-truth-01-4326-simulated.tif'\n",
    "gdf_grid = gridder(fname_raster, nrows=10, ncols=10)"
   ]
  },
  {
   "cell_type": "markdown",
   "metadata": {},
   "source": [
    "2. Then, we can emulate a data collection campaign:"
   ]
  },
  {
   "cell_type": "code",
   "execution_count": null,
   "metadata": {},
   "outputs": [],
   "source": [
    "#|eval: false\n",
    "# Define random samples where to collect data\n",
    "sampler = Sampler(gdf_grid)\n",
    "np.random.seed(41)\n",
    "n = np.random.randint(0, high=10, size=len(gdf_grid), dtype=int)\n",
    "sample_locs = sampler.sample(n, method='uniform')"
   ]
  },
  {
   "cell_type": "code",
   "execution_count": null,
   "metadata": {},
   "outputs": [
    {
     "data": {
      "image/png": "[encoded data removed]",
      "text/plain": [
       "<Figure size 640x480 with 2 Axes>"
      ]
     },
     "metadata": {},
     "output_type": "display_data"
    }
   ],
   "source": [
    "#|eval: false\n",
    "# Emulate data collection\n",
    "dc_emulator = DataCollector(fname_raster)\n",
    "samples_t0 = dc_emulator.collect(sample_locs)\n",
    "\n",
    "ax = samples_t0.plot(column='value', s=3, legend=True)\n",
    "gdf_grid.boundary.plot(color=black, ax=ax);"
   ]
  },
  {
   "cell_type": "markdown",
   "metadata": {},
   "source": [
    "3. Finally, we specify the variables of current `State` and return it:"
   ]
  },
  {
   "cell_type": "code",
   "execution_count": null,
   "metadata": {},
   "outputs": [
    {
     "data": {
      "text/html": [
       "<div>\n",
       "<style scoped>\n",
       "    .dataframe tbody tr th:only-of-type {\n",
       "        vertical-align: middle;\n",
       "    }\n",
       "\n",
       "    .dataframe tbody tr th {\n",
       "        vertical-align: top;\n",
       "    }\n",
       "\n",
       "    .dataframe thead th {\n",
       "        text-align: right;\n",
       "    }\n",
       "</style>\n",
       "<table border=\"1\" class=\"dataframe\">\n",
       "  <thead>\n",
       "    <tr style=\"text-align: right;\">\n",
       "      <th></th>\n",
       "      <th>Max</th>\n",
       "      <th>Min</th>\n",
       "      <th>Standard Deviation</th>\n",
       "      <th>Count</th>\n",
       "      <th>Moran.I</th>\n",
       "      <th>Prior</th>\n",
       "    </tr>\n",
       "    <tr>\n",
       "      <th>loc_id</th>\n",
       "      <th></th>\n",
       "      <th></th>\n",
       "      <th></th>\n",
       "      <th></th>\n",
       "      <th></th>\n",
       "      <th></th>\n",
       "    </tr>\n",
       "  </thead>\n",
       "  <tbody>\n",
       "    <tr>\n",
       "      <th>0</th>\n",
       "      <td>NaN</td>\n",
       "      <td>NaN</td>\n",
       "      <td>NaN</td>\n",
       "      <td>NaN</td>\n",
       "      <td>NaN</td>\n",
       "      <td>0.102492</td>\n",
       "    </tr>\n",
       "    <tr>\n",
       "      <th>1</th>\n",
       "      <td>0.180137</td>\n",
       "      <td>0.131248</td>\n",
       "      <td>0.020143</td>\n",
       "      <td>3.0</td>\n",
       "      <td>NaN</td>\n",
       "      <td>0.125727</td>\n",
       "    </tr>\n",
       "    <tr>\n",
       "      <th>2</th>\n",
       "      <td>0.155227</td>\n",
       "      <td>0.000000</td>\n",
       "      <td>0.077614</td>\n",
       "      <td>2.0</td>\n",
       "      <td>NaN</td>\n",
       "      <td>0.161802</td>\n",
       "    </tr>\n",
       "    <tr>\n",
       "      <th>3</th>\n",
       "      <td>NaN</td>\n",
       "      <td>NaN</td>\n",
       "      <td>NaN</td>\n",
       "      <td>NaN</td>\n",
       "      <td>NaN</td>\n",
       "      <td>0.184432</td>\n",
       "    </tr>\n",
       "    <tr>\n",
       "      <th>4</th>\n",
       "      <td>0.248508</td>\n",
       "      <td>0.248508</td>\n",
       "      <td>0.000000</td>\n",
       "      <td>1.0</td>\n",
       "      <td>NaN</td>\n",
       "      <td>0.201405</td>\n",
       "    </tr>\n",
       "    <tr>\n",
       "      <th>...</th>\n",
       "      <td>...</td>\n",
       "      <td>...</td>\n",
       "      <td>...</td>\n",
       "      <td>...</td>\n",
       "      <td>...</td>\n",
       "      <td>...</td>\n",
       "    </tr>\n",
       "    <tr>\n",
       "      <th>95</th>\n",
       "      <td>0.851829</td>\n",
       "      <td>0.848570</td>\n",
       "      <td>0.001630</td>\n",
       "      <td>2.0</td>\n",
       "      <td>NaN</td>\n",
       "      <td>0.803670</td>\n",
       "    </tr>\n",
       "    <tr>\n",
       "      <th>96</th>\n",
       "      <td>0.796904</td>\n",
       "      <td>0.796904</td>\n",
       "      <td>0.000000</td>\n",
       "      <td>1.0</td>\n",
       "      <td>NaN</td>\n",
       "      <td>0.763408</td>\n",
       "    </tr>\n",
       "    <tr>\n",
       "      <th>97</th>\n",
       "      <td>NaN</td>\n",
       "      <td>NaN</td>\n",
       "      <td>NaN</td>\n",
       "      <td>NaN</td>\n",
       "      <td>NaN</td>\n",
       "      <td>0.727797</td>\n",
       "    </tr>\n",
       "    <tr>\n",
       "      <th>98</th>\n",
       "      <td>0.690826</td>\n",
       "      <td>0.690826</td>\n",
       "      <td>0.000000</td>\n",
       "      <td>1.0</td>\n",
       "      <td>NaN</td>\n",
       "      <td>0.646002</td>\n",
       "    </tr>\n",
       "    <tr>\n",
       "      <th>99</th>\n",
       "      <td>0.669268</td>\n",
       "      <td>0.669268</td>\n",
       "      <td>0.000000</td>\n",
       "      <td>1.0</td>\n",
       "      <td>NaN</td>\n",
       "      <td>0.655185</td>\n",
       "    </tr>\n",
       "  </tbody>\n",
       "</table>\n",
       "<p>100 rows × 6 columns</p>\n",
       "</div>"
      ],
      "text/plain": [
       "             Max       Min  Standard Deviation  Count  Moran.I     Prior\n",
       "loc_id                                                                  \n",
       "0            NaN       NaN                 NaN    NaN      NaN  0.102492\n",
       "1       0.180137  0.131248            0.020143    3.0      NaN  0.125727\n",
       "2       0.155227  0.000000            0.077614    2.0      NaN  0.161802\n",
       "3            NaN       NaN                 NaN    NaN      NaN  0.184432\n",
       "4       0.248508  0.248508            0.000000    1.0      NaN  0.201405\n",
       "...          ...       ...                 ...    ...      ...       ...\n",
       "95      0.851829  0.848570            0.001630    2.0      NaN  0.803670\n",
       "96      0.796904  0.796904            0.000000    1.0      NaN  0.763408\n",
       "97           NaN       NaN                 NaN    NaN      NaN  0.727797\n",
       "98      0.690826  0.690826            0.000000    1.0      NaN  0.646002\n",
       "99      0.669268  0.669268            0.000000    1.0      NaN  0.655185\n",
       "\n",
       "[100 rows x 6 columns]"
      ]
     },
     "execution_count": null,
     "metadata": {},
     "output_type": "execute_result"
    }
   ],
   "source": [
    "#|eval: false\n",
    "state = State(samples_t0, gdf_grid, cbs=[\n",
    "    MaxCB(), MinCB(), StdCB(), CountCB(), MoranICB(k=5), PriorCB(fname_raster)\n",
    "])\n",
    "\n",
    "# You have to call the instance\n",
    "state_t0 = state(); state_t0"
   ]
  },
  {
   "cell_type": "markdown",
   "metadata": {},
   "source": [
    "**Why the `expand_to_k_nearest` method?**\n",
    "\n",
    "The `Moran.I` index is a statistical method used to determine if there is a significant spatial autocorrelation in a dataset. It helps to characterize the level of spatial correlation within each area of interest, such as a cell in your example.\n",
    "\n",
    "However, when analyzing spatial data, it's important to consider not just the correlation within each area, but also the correlation between areas that are close to each other. In other words, we need to take into account points that are \"nearby\" but \"belong\" to different areas.\n",
    "\n",
    "The `expand_to_k_nearest` method is a technique that can help with this. It takes a list of points and expands it to include the nearest k-neighbors. This can be useful for identifying spatial patterns that might not be apparent when only considering the points within each area in isolation.\n",
    "\n",
    "By combining the `Moran.I` index with the `expand_to_k_nearest` method, you can gain a more comprehensive understanding of the spatial patterns in your data, taking into account both the correlation within each area and the correlation between nearby areas. \n",
    "\n",
    "The cell below allows to visualize it in action:"
   ]
  },
  {
   "cell_type": "code",
   "execution_count": null,
   "metadata": {},
   "outputs": [
    {
     "data": {
      "image/png": "[encoded data removed]",
      "text/plain": [
       "<Figure size 640x480 with 2 Axes>"
      ]
     },
     "metadata": {},
     "output_type": "display_data"
    }
   ],
   "source": [
    "#|eval: false\n",
    "\n",
    "# Select measurements belonging to loc_id=1\n",
    "subset = state.measurements.loc[[1]]; subset.head()\n",
    "# Expand to k-nearest neighbors\n",
    "expanded_pts = state.expand_to_k_nearest(subset, k=5)\n",
    "\n",
    "# Look how the k-nearest neighbors from adjacent areas are now incuded\n",
    "ax = expanded_pts.plot(column='value', s=10, legend=True)\n",
    "gpd.sjoin(gdf_grid, expanded_pts, how=\"inner\", predicate='contains').boundary.plot(color=black, ax=ax);"
   ]
  },
  {
   "cell_type": "code",
   "execution_count": null,
   "metadata": {},
   "outputs": [],
   "source": [
    "#| hide\n",
    "import nbdev; nbdev.nbdev_export()"
   ]
  },
  {
   "cell_type": "code",
   "execution_count": null,
   "metadata": {},
   "outputs": [],
   "source": []
  }
 ],
 "metadata": {
  "kernelspec": {
   "display_name": "python3",
   "language": "python",
   "name": "python3"
  }
 },
 "nbformat": 4,
 "nbformat_minor": 4
}
