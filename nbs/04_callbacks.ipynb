{
 "cells": [
  {
   "cell_type": "markdown",
   "metadata": {},
   "source": [
    "# Callbacks\n",
    "\n",
    "> State's callbacks and variables"
   ]
  },
  {
   "cell_type": "code",
   "execution_count": 13,
   "metadata": {},
   "outputs": [],
   "source": [
    "#| default_exp callbacks"
   ]
  },
  {
   "cell_type": "code",
   "execution_count": 14,
   "metadata": {},
   "outputs": [],
   "source": [
    "#|export\n",
    "from dataclasses import dataclass"
   ]
  },
  {
   "cell_type": "code",
   "execution_count": 37,
   "metadata": {},
   "outputs": [],
   "source": [
    "#|export\n",
    "from pysal.lib import weights\n",
    "from pysal.explore import esda\n",
    "import itertools\n",
    "import fastcore.all as fc\n",
    "import numpy as np\n",
    "from scipy.spatial import KDTree\n",
    "\n",
    "import warnings\n",
    "warnings.filterwarnings(\"ignore\", category=UserWarning, message=\"The weights matrix is not fully connected\")"
   ]
  },
  {
   "cell_type": "code",
   "execution_count": 33,
   "metadata": {},
   "outputs": [
    {
     "name": "stdout",
     "output_type": "stream",
     "text": [
      "The autoreload extension is already loaded. To reload it, use:\n",
      "  %reload_ext autoreload\n"
     ]
    }
   ],
   "source": [
    "#| hide\n",
    "from trufl.utils import gridder\n",
    "from trufl.sampler import Sampler\n",
    "import pandas as pd\n",
    "\n",
    "red, black = '#BF360C', '#263238'\n",
    "\n",
    "%load_ext autoreload\n",
    "%autoreload 2"
   ]
  },
  {
   "cell_type": "markdown",
   "metadata": {},
   "source": [
    "## States"
   ]
  },
  {
   "cell_type": "code",
   "execution_count": 25,
   "metadata": {},
   "outputs": [],
   "source": [
    "#|export\n",
    "@dataclass\n",
    "class Variable:\n",
    "    \"State variable\"\n",
    "    name: str\n",
    "    value: float"
   ]
  },
  {
   "cell_type": "code",
   "execution_count": 18,
   "metadata": {},
   "outputs": [],
   "source": [
    "#|export\n",
    "class Callback(): pass"
   ]
  },
  {
   "cell_type": "code",
   "execution_count": 19,
   "metadata": {},
   "outputs": [],
   "source": [
    "#|export\n",
    "class State:\n",
    "    def __init__(self, measurements, cbs): fc.store_attr()\n",
    "        \n",
    "    def get(self, loc_id, as_numpy=False):\n",
    "        variables = self.run_cbs(loc_id)\n",
    "        if as_numpy:\n",
    "            return (np.array([v.name for v in variables]), \n",
    "                    np.array([v.value for v in variables]))\n",
    "        else:\n",
    "            return variables\n",
    "\n",
    "    def expand_to_k_nearest(self, subset_measurements, k=5):\n",
    "        tree = KDTree(self.measurements.geometry.apply(lambda p: (p.x, p.y)).tolist());\n",
    "        _, indices = tree.query(subset_measurements.geometry.apply(lambda p: (p.x, p.y)).tolist(), k=k)\n",
    "        return self.measurements.iloc[indices.flatten()].reset_index(drop=True)\n",
    "        \n",
    "    def _flatten(self, variables):\n",
    "        \"Flatten list of variables potentially containing both scalar and tuples.\"\n",
    "        return list(itertools.chain(*(v if isinstance(v, tuple) else (v,) \n",
    "                                      for v in variables)))\n",
    "    def run_cbs(self, loc_id):\n",
    "        variables = []\n",
    "        for cb in self.cbs:\n",
    "            variables.append(cb(loc_id, self))\n",
    "        return self._flatten(variables)"
   ]
  },
  {
   "cell_type": "code",
   "execution_count": 20,
   "metadata": {},
   "outputs": [],
   "source": [
    "#|export\n",
    "class MaxCB(Callback):\n",
    "    def __call__(self, loc_id, state): \n",
    "        return Variable(\n",
    "            'Max', \n",
    "            np.max(state.measurements[state.measurements.loc_id == loc_id]['value'].values))"
   ]
  },
  {
   "cell_type": "code",
   "execution_count": 21,
   "metadata": {},
   "outputs": [],
   "source": [
    "#|export\n",
    "class MinCB(Callback):\n",
    "    def __call__(self, loc_id, state): \n",
    "        return Variable(\n",
    "            'Min', \n",
    "            np.min(state.measurements[state.measurements.loc_id == loc_id]['value'].values))"
   ]
  },
  {
   "cell_type": "code",
   "execution_count": 22,
   "metadata": {},
   "outputs": [],
   "source": [
    "#|export\n",
    "class StdCB(Callback):\n",
    "    def __call__(self, loc_id, state): \n",
    "        return Variable(\n",
    "            'Standard Deviation', \n",
    "            np.std(state.measurements[state.measurements.loc_id == loc_id]['value'].values))"
   ]
  },
  {
   "cell_type": "code",
   "execution_count": 23,
   "metadata": {},
   "outputs": [],
   "source": [
    "#|export\n",
    "class CountCB(Callback):\n",
    "    def __call__(self, loc_id, state): \n",
    "        return Variable(\n",
    "            'Count', \n",
    "            len(state.measurements[state.measurements.loc_id == loc_id]['value'].values))"
   ]
  },
  {
   "cell_type": "code",
   "execution_count": 46,
   "metadata": {},
   "outputs": [],
   "source": [
    "#|export\n",
    "class MoranICB(Callback):\n",
    "    def __init__(self, k=5): fc.store_attr()\n",
    "\n",
    "    def _weights(self, measurements):\n",
    "        w = weights.KNN.from_dataframe(measurements, k=self.k)\n",
    "        w.transform = \"R\" # Row-standardization\n",
    "        return w\n",
    "        \n",
    "    def __call__(self, loc_id, state): \n",
    "        subset = state.measurements[state.measurements.loc_id == loc_id];\n",
    "        expanded_measurements = state.expand_to_k_nearest(subset, k=self.k)\n",
    "        moran = esda.moran.Moran(expanded_measurements['value'], self._weights(expanded_measurements))\n",
    "        return Variable('Moran.I', moran.I), Variable('Moran_p_sim', moran.p_sim)"
   ]
  },
  {
   "cell_type": "code",
   "execution_count": 51,
   "metadata": {},
   "outputs": [],
   "source": [
    "fname_raster = 'files/ground-truth-01-4326-simulated.tif'\n",
    "gdf_grid = gridder(fname_raster, nrows=10, ncols=10)\n",
    "\n",
    "sampler = Sampler(fname_raster)\n",
    "n_planned = np.random.randint(1, high=100, size=len(gdf_grid), dtype=int)\n",
    "loc_ids = gdf_grid.loc_id.values\n",
    "\n",
    "samples_t0 = []\n",
    "for loc_id, n in zip(loc_ids, n_planned):    \n",
    "    sampling_locs = gdf_grid.loc[gdf_grid.loc_id == loc_id].sample_points(n)\n",
    "    gdf_samples = sampler.sample(sampling_locs)\n",
    "    samples_t0.append(gdf_samples)\n",
    "\n",
    "gdf_samples_t0 = pd.concat(samples_t0)"
   ]
  },
  {
   "cell_type": "code",
   "execution_count": 52,
   "metadata": {},
   "outputs": [],
   "source": [
    "state = State(gdf_samples_t0, [MaxCB(), MinCB(), StdCB(), CountCB(), MoranICB(k=5)])"
   ]
  },
  {
   "cell_type": "code",
   "execution_count": 49,
   "metadata": {},
   "outputs": [
    {
     "data": {
      "text/plain": [
       "[Variable(name='Max', value=0.14659424),\n",
       " Variable(name='Min', value=0.116223834),\n",
       " Variable(name='Standard Deviation', value=0.011539617),\n",
       " Variable(name='Count', value=5),\n",
       " Variable(name='Moran.I', value=0.516103423324934),\n",
       " Variable(name='Moran_p_sim', value=0.001)]"
      ]
     },
     "execution_count": 49,
     "metadata": {},
     "output_type": "execute_result"
    }
   ],
   "source": [
    "state.get(0, as_numpy=False)"
   ]
  },
  {
   "cell_type": "code",
   "execution_count": 50,
   "metadata": {},
   "outputs": [
    {
     "data": {
      "text/plain": [
       "(array(['Max', 'Min', 'Standard Deviation', 'Count', 'Moran.I',\n",
       "        'Moran_p_sim'], dtype='<U18'),\n",
       " array([1.46594241e-01, 1.16223834e-01, 1.15396166e-02, 5.00000000e+00,\n",
       "        5.16103423e-01, 1.00000000e-03]))"
      ]
     },
     "execution_count": 50,
     "metadata": {},
     "output_type": "execute_result"
    }
   ],
   "source": [
    "state.get(0, as_numpy=True)"
   ]
  },
  {
   "cell_type": "code",
   "execution_count": 44,
   "metadata": {},
   "outputs": [
    {
     "data": {
      "image/png": "[encoded data removed]",
      "text/plain": [
       "<Figure size 640x480 with 2 Axes>"
      ]
     },
     "metadata": {},
     "output_type": "display_data"
    }
   ],
   "source": [
    "subset = state.measurements[state.measurements.loc_id == 0]; subset.head()\n",
    "\n",
    "expanded_gpd = state.expand_to_k_nearest(subset, k=5)\n",
    "ax = expanded_gpd.plot(column='value', s=10, legend=True)\n",
    "gdf_grid[gdf_grid.loc_id.isin(expanded_gpd.loc_id.unique())].boundary.plot(color=black, ax=ax);"
   ]
  },
  {
   "cell_type": "code",
   "execution_count": 15,
   "metadata": {},
   "outputs": [],
   "source": [
    "#| hide\n",
    "import nbdev; nbdev.nbdev_export()"
   ]
  }
 ],
 "metadata": {
  "kernelspec": {
   "display_name": "Python 3 (ipykernel)",
   "language": "python",
   "name": "python3"
  },
  "language_info": {
   "codemirror_mode": {
    "name": "ipython",
    "version": 3
   },
   "file_extension": ".py",
   "mimetype": "text/x-python",
   "name": "python",
   "nbconvert_exporter": "python",
   "pygments_lexer": "ipython3",
   "version": "3.12.3"
  }
 },
 "nbformat": 4,
 "nbformat_minor": 4
}
